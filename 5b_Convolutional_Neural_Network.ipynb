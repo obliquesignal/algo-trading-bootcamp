{
  "nbformat": 4,
  "nbformat_minor": 0,
  "metadata": {
    "colab": {
      "provenance": [],
      "include_colab_link": true
    },
    "kernelspec": {
      "name": "python3",
      "display_name": "Python 3"
    },
    "language_info": {
      "name": "python"
    }
  },
  "cells": [
    {
      "cell_type": "markdown",
      "metadata": {
        "id": "view-in-github",
        "colab_type": "text"
      },
      "source": [
        "<a href=\"https://colab.research.google.com/github/obliquesignal/algo-trading-bootcamp/blob/master/5b_Convolutional_Neural_Network.ipynb\" target=\"_parent\"><img src=\"https://colab.research.google.com/assets/colab-badge.svg\" alt=\"Open In Colab\"/></a>"
      ]
    },
    {
      "cell_type": "markdown",
      "metadata": {
        "id": "8CJ8zw8grBe6"
      },
      "source": [
        "# Import Libraries"
      ]
    },
    {
      "cell_type": "code",
      "metadata": {
        "id": "-etGdOTC4Wxt"
      },
      "source": [
        "from keras import models\n",
        "from keras import layers"
      ],
      "execution_count": null,
      "outputs": []
    },
    {
      "cell_type": "code",
      "metadata": {
        "id": "E-B93MMWCmTX",
        "colab": {
          "base_uri": "https://localhost:8080/"
        },
        "outputId": "13eb09f3-1566-4163-d829-61ebc4a60c31"
      },
      "source": [
        "#Import Python Libraries\n",
        "import numpy as np\n",
        "import pandas as pd\n",
        "from datetime import datetime\n",
        "import matplotlib.pyplot as plt\n",
        "plt.style.use('seaborn')\n",
        "\n",
        "!pip install yfinance -q\n",
        "import yfinance as yf "
      ],
      "execution_count": null,
      "outputs": [
        {
          "output_type": "stream",
          "name": "stderr",
          "text": [
            "<ipython-input-3-e9abc5df443e>:6: MatplotlibDeprecationWarning: The seaborn styles shipped by Matplotlib are deprecated since 3.6, as they no longer correspond to the styles shipped by seaborn. However, they will remain available as 'seaborn-v0_8-<style>'. Alternatively, directly use the seaborn API instead.\n",
            "  plt.style.use('seaborn')\n"
          ]
        }
      ]
    },
    {
      "cell_type": "markdown",
      "metadata": {
        "id": "IVlnipC_rTRK"
      },
      "source": [
        "#Import and Process Data"
      ]
    },
    {
      "cell_type": "code",
      "metadata": {
        "id": "DqJ9CaC2Czd6"
      },
      "source": [
        "#Import data\n",
        "start = datetime(2022, 1, 1)\n",
        "end = datetime(2023, 5, 29)\n",
        "\n",
        "stock = yf.Ticker('AAPL').history(start=start, end=end) #Apple Inc. stock\n",
        "market = yf.Ticker('SPY').history(start=start, end=end) #S&P 500 index\n",
        "vix = yf.Ticker('VXX').history(start=start, end=end)   #Volatility index\n",
        "dxy = yf.Ticker('UUP').history(start=start, end=end)    #Dollar index\n",
        "junk = yf.Ticker('JNK').history(start=start, end=end)   #Junk bond index"
      ],
      "execution_count": null,
      "outputs": []
    },
    {
      "cell_type": "code",
      "metadata": {
        "colab": {
          "base_uri": "https://localhost:8080/",
          "height": 237
        },
        "id": "0IasApx-DXgU",
        "outputId": "5371e0f3-88ea-47a1-892a-14237f5b02f9"
      },
      "source": [
        "#Create target dataframe\n",
        "target = pd.DataFrame()\n",
        "target['return'] = (stock['Open']-stock['Close'].shift(1))/stock['Close'].shift(1) #Returns based on buying on the close the day before and selling on the open the day after\n",
        "target = target.dropna() #get rid of any NaNs\n",
        "target['direction'] = np.where(target['return'] > 0, 1, 0) #Overnight direction of the stock is 1 when it is up and 0 when it is down\n",
        "target.tail() #In a classification problem using binary cross-entropy, your labels have to be 0 or 1"
      ],
      "execution_count": null,
      "outputs": [
        {
          "output_type": "execute_result",
          "data": {
            "text/plain": [
              "                             return  direction\n",
              "Date                                          \n",
              "2023-05-22 00:00:00-04:00 -0.006737          0\n",
              "2023-05-23 00:00:00-04:00 -0.006142          0\n",
              "2023-05-24 00:00:00-04:00 -0.002740          0\n",
              "2023-05-25 00:00:00-04:00  0.003317          1\n",
              "2023-05-26 00:00:00-04:00  0.001908          1"
            ],
            "text/html": [
              "\n",
              "  <div id=\"df-c75346cf-08bb-47fb-82ad-b8f74996c100\">\n",
              "    <div class=\"colab-df-container\">\n",
              "      <div>\n",
              "<style scoped>\n",
              "    .dataframe tbody tr th:only-of-type {\n",
              "        vertical-align: middle;\n",
              "    }\n",
              "\n",
              "    .dataframe tbody tr th {\n",
              "        vertical-align: top;\n",
              "    }\n",
              "\n",
              "    .dataframe thead th {\n",
              "        text-align: right;\n",
              "    }\n",
              "</style>\n",
              "<table border=\"1\" class=\"dataframe\">\n",
              "  <thead>\n",
              "    <tr style=\"text-align: right;\">\n",
              "      <th></th>\n",
              "      <th>return</th>\n",
              "      <th>direction</th>\n",
              "    </tr>\n",
              "    <tr>\n",
              "      <th>Date</th>\n",
              "      <th></th>\n",
              "      <th></th>\n",
              "    </tr>\n",
              "  </thead>\n",
              "  <tbody>\n",
              "    <tr>\n",
              "      <th>2023-05-22 00:00:00-04:00</th>\n",
              "      <td>-0.006737</td>\n",
              "      <td>0</td>\n",
              "    </tr>\n",
              "    <tr>\n",
              "      <th>2023-05-23 00:00:00-04:00</th>\n",
              "      <td>-0.006142</td>\n",
              "      <td>0</td>\n",
              "    </tr>\n",
              "    <tr>\n",
              "      <th>2023-05-24 00:00:00-04:00</th>\n",
              "      <td>-0.002740</td>\n",
              "      <td>0</td>\n",
              "    </tr>\n",
              "    <tr>\n",
              "      <th>2023-05-25 00:00:00-04:00</th>\n",
              "      <td>0.003317</td>\n",
              "      <td>1</td>\n",
              "    </tr>\n",
              "    <tr>\n",
              "      <th>2023-05-26 00:00:00-04:00</th>\n",
              "      <td>0.001908</td>\n",
              "      <td>1</td>\n",
              "    </tr>\n",
              "  </tbody>\n",
              "</table>\n",
              "</div>\n",
              "      <button class=\"colab-df-convert\" onclick=\"convertToInteractive('df-c75346cf-08bb-47fb-82ad-b8f74996c100')\"\n",
              "              title=\"Convert this dataframe to an interactive table.\"\n",
              "              style=\"display:none;\">\n",
              "        \n",
              "  <svg xmlns=\"http://www.w3.org/2000/svg\" height=\"24px\"viewBox=\"0 0 24 24\"\n",
              "       width=\"24px\">\n",
              "    <path d=\"M0 0h24v24H0V0z\" fill=\"none\"/>\n",
              "    <path d=\"M18.56 5.44l.94 2.06.94-2.06 2.06-.94-2.06-.94-.94-2.06-.94 2.06-2.06.94zm-11 1L8.5 8.5l.94-2.06 2.06-.94-2.06-.94L8.5 2.5l-.94 2.06-2.06.94zm10 10l.94 2.06.94-2.06 2.06-.94-2.06-.94-.94-2.06-.94 2.06-2.06.94z\"/><path d=\"M17.41 7.96l-1.37-1.37c-.4-.4-.92-.59-1.43-.59-.52 0-1.04.2-1.43.59L10.3 9.45l-7.72 7.72c-.78.78-.78 2.05 0 2.83L4 21.41c.39.39.9.59 1.41.59.51 0 1.02-.2 1.41-.59l7.78-7.78 2.81-2.81c.8-.78.8-2.07 0-2.86zM5.41 20L4 18.59l7.72-7.72 1.47 1.35L5.41 20z\"/>\n",
              "  </svg>\n",
              "      </button>\n",
              "      \n",
              "  <style>\n",
              "    .colab-df-container {\n",
              "      display:flex;\n",
              "      flex-wrap:wrap;\n",
              "      gap: 12px;\n",
              "    }\n",
              "\n",
              "    .colab-df-convert {\n",
              "      background-color: #E8F0FE;\n",
              "      border: none;\n",
              "      border-radius: 50%;\n",
              "      cursor: pointer;\n",
              "      display: none;\n",
              "      fill: #1967D2;\n",
              "      height: 32px;\n",
              "      padding: 0 0 0 0;\n",
              "      width: 32px;\n",
              "    }\n",
              "\n",
              "    .colab-df-convert:hover {\n",
              "      background-color: #E2EBFA;\n",
              "      box-shadow: 0px 1px 2px rgba(60, 64, 67, 0.3), 0px 1px 3px 1px rgba(60, 64, 67, 0.15);\n",
              "      fill: #174EA6;\n",
              "    }\n",
              "\n",
              "    [theme=dark] .colab-df-convert {\n",
              "      background-color: #3B4455;\n",
              "      fill: #D2E3FC;\n",
              "    }\n",
              "\n",
              "    [theme=dark] .colab-df-convert:hover {\n",
              "      background-color: #434B5C;\n",
              "      box-shadow: 0px 1px 3px 1px rgba(0, 0, 0, 0.15);\n",
              "      filter: drop-shadow(0px 1px 2px rgba(0, 0, 0, 0.3));\n",
              "      fill: #FFFFFF;\n",
              "    }\n",
              "  </style>\n",
              "\n",
              "      <script>\n",
              "        const buttonEl =\n",
              "          document.querySelector('#df-c75346cf-08bb-47fb-82ad-b8f74996c100 button.colab-df-convert');\n",
              "        buttonEl.style.display =\n",
              "          google.colab.kernel.accessAllowed ? 'block' : 'none';\n",
              "\n",
              "        async function convertToInteractive(key) {\n",
              "          const element = document.querySelector('#df-c75346cf-08bb-47fb-82ad-b8f74996c100');\n",
              "          const dataTable =\n",
              "            await google.colab.kernel.invokeFunction('convertToInteractive',\n",
              "                                                     [key], {});\n",
              "          if (!dataTable) return;\n",
              "\n",
              "          const docLinkHtml = 'Like what you see? Visit the ' +\n",
              "            '<a target=\"_blank\" href=https://colab.research.google.com/notebooks/data_table.ipynb>data table notebook</a>'\n",
              "            + ' to learn more about interactive tables.';\n",
              "          element.innerHTML = '';\n",
              "          dataTable['output_type'] = 'display_data';\n",
              "          await google.colab.output.renderOutput(dataTable, element);\n",
              "          const docLink = document.createElement('div');\n",
              "          docLink.innerHTML = docLinkHtml;\n",
              "          element.appendChild(docLink);\n",
              "        }\n",
              "      </script>\n",
              "    </div>\n",
              "  </div>\n",
              "  "
            ]
          },
          "metadata": {},
          "execution_count": 8
        }
      ]
    },
    {
      "cell_type": "code",
      "metadata": {
        "colab": {
          "base_uri": "https://localhost:8080/",
          "height": 237
        },
        "id": "k8YxQDp-ErUb",
        "outputId": "b5d7a9c2-30bf-4ab7-b9cd-6015fdd997d3"
      },
      "source": [
        "#Create features dataframe\n",
        "features = pd.DataFrame()\n",
        "features['market'] = market['Close'].pct_change(1)*100\n",
        "features['vix'] = vix['Close'].diff() #Since VIX is measured in percentage terms\n",
        "features['dxy'] = dxy['Close'].pct_change(1)*100\n",
        "features['junk'] = junk['Close'].pct_change(1)*100\n",
        "features = features.dropna()\n",
        "\n",
        "#Values of features from the last trading session\n",
        "lastknown = features[-1:]\n",
        "\n",
        "#Subtracts last row from the features matrix so that it aligns with labels vector\n",
        "features = features[:-1] \n",
        "features.tail()"
      ],
      "execution_count": null,
      "outputs": [
        {
          "output_type": "execute_result",
          "data": {
            "text/plain": [
              "                             market       vix       dxy      junk\n",
              "Date                                                             \n",
              "2023-05-19 00:00:00-04:00 -0.145509  0.869999 -0.282187  0.054976\n",
              "2023-05-22 00:00:00-04:00  0.040613  0.040001  0.070748  0.439610\n",
              "2023-05-23 00:00:00-04:00 -1.122284  0.680000  0.282785 -0.492392\n",
              "2023-05-24 00:00:00-04:00 -0.724480  1.469997  0.352480 -0.703760\n",
              "2023-05-25 00:00:00-04:00  0.865990 -0.889999  0.456625 -0.099672"
            ],
            "text/html": [
              "\n",
              "  <div id=\"df-9cc27c1a-9c96-4695-932c-7c82509e8bc5\">\n",
              "    <div class=\"colab-df-container\">\n",
              "      <div>\n",
              "<style scoped>\n",
              "    .dataframe tbody tr th:only-of-type {\n",
              "        vertical-align: middle;\n",
              "    }\n",
              "\n",
              "    .dataframe tbody tr th {\n",
              "        vertical-align: top;\n",
              "    }\n",
              "\n",
              "    .dataframe thead th {\n",
              "        text-align: right;\n",
              "    }\n",
              "</style>\n",
              "<table border=\"1\" class=\"dataframe\">\n",
              "  <thead>\n",
              "    <tr style=\"text-align: right;\">\n",
              "      <th></th>\n",
              "      <th>market</th>\n",
              "      <th>vix</th>\n",
              "      <th>dxy</th>\n",
              "      <th>junk</th>\n",
              "    </tr>\n",
              "    <tr>\n",
              "      <th>Date</th>\n",
              "      <th></th>\n",
              "      <th></th>\n",
              "      <th></th>\n",
              "      <th></th>\n",
              "    </tr>\n",
              "  </thead>\n",
              "  <tbody>\n",
              "    <tr>\n",
              "      <th>2023-05-19 00:00:00-04:00</th>\n",
              "      <td>-0.145509</td>\n",
              "      <td>0.869999</td>\n",
              "      <td>-0.282187</td>\n",
              "      <td>0.054976</td>\n",
              "    </tr>\n",
              "    <tr>\n",
              "      <th>2023-05-22 00:00:00-04:00</th>\n",
              "      <td>0.040613</td>\n",
              "      <td>0.040001</td>\n",
              "      <td>0.070748</td>\n",
              "      <td>0.439610</td>\n",
              "    </tr>\n",
              "    <tr>\n",
              "      <th>2023-05-23 00:00:00-04:00</th>\n",
              "      <td>-1.122284</td>\n",
              "      <td>0.680000</td>\n",
              "      <td>0.282785</td>\n",
              "      <td>-0.492392</td>\n",
              "    </tr>\n",
              "    <tr>\n",
              "      <th>2023-05-24 00:00:00-04:00</th>\n",
              "      <td>-0.724480</td>\n",
              "      <td>1.469997</td>\n",
              "      <td>0.352480</td>\n",
              "      <td>-0.703760</td>\n",
              "    </tr>\n",
              "    <tr>\n",
              "      <th>2023-05-25 00:00:00-04:00</th>\n",
              "      <td>0.865990</td>\n",
              "      <td>-0.889999</td>\n",
              "      <td>0.456625</td>\n",
              "      <td>-0.099672</td>\n",
              "    </tr>\n",
              "  </tbody>\n",
              "</table>\n",
              "</div>\n",
              "      <button class=\"colab-df-convert\" onclick=\"convertToInteractive('df-9cc27c1a-9c96-4695-932c-7c82509e8bc5')\"\n",
              "              title=\"Convert this dataframe to an interactive table.\"\n",
              "              style=\"display:none;\">\n",
              "        \n",
              "  <svg xmlns=\"http://www.w3.org/2000/svg\" height=\"24px\"viewBox=\"0 0 24 24\"\n",
              "       width=\"24px\">\n",
              "    <path d=\"M0 0h24v24H0V0z\" fill=\"none\"/>\n",
              "    <path d=\"M18.56 5.44l.94 2.06.94-2.06 2.06-.94-2.06-.94-.94-2.06-.94 2.06-2.06.94zm-11 1L8.5 8.5l.94-2.06 2.06-.94-2.06-.94L8.5 2.5l-.94 2.06-2.06.94zm10 10l.94 2.06.94-2.06 2.06-.94-2.06-.94-.94-2.06-.94 2.06-2.06.94z\"/><path d=\"M17.41 7.96l-1.37-1.37c-.4-.4-.92-.59-1.43-.59-.52 0-1.04.2-1.43.59L10.3 9.45l-7.72 7.72c-.78.78-.78 2.05 0 2.83L4 21.41c.39.39.9.59 1.41.59.51 0 1.02-.2 1.41-.59l7.78-7.78 2.81-2.81c.8-.78.8-2.07 0-2.86zM5.41 20L4 18.59l7.72-7.72 1.47 1.35L5.41 20z\"/>\n",
              "  </svg>\n",
              "      </button>\n",
              "      \n",
              "  <style>\n",
              "    .colab-df-container {\n",
              "      display:flex;\n",
              "      flex-wrap:wrap;\n",
              "      gap: 12px;\n",
              "    }\n",
              "\n",
              "    .colab-df-convert {\n",
              "      background-color: #E8F0FE;\n",
              "      border: none;\n",
              "      border-radius: 50%;\n",
              "      cursor: pointer;\n",
              "      display: none;\n",
              "      fill: #1967D2;\n",
              "      height: 32px;\n",
              "      padding: 0 0 0 0;\n",
              "      width: 32px;\n",
              "    }\n",
              "\n",
              "    .colab-df-convert:hover {\n",
              "      background-color: #E2EBFA;\n",
              "      box-shadow: 0px 1px 2px rgba(60, 64, 67, 0.3), 0px 1px 3px 1px rgba(60, 64, 67, 0.15);\n",
              "      fill: #174EA6;\n",
              "    }\n",
              "\n",
              "    [theme=dark] .colab-df-convert {\n",
              "      background-color: #3B4455;\n",
              "      fill: #D2E3FC;\n",
              "    }\n",
              "\n",
              "    [theme=dark] .colab-df-convert:hover {\n",
              "      background-color: #434B5C;\n",
              "      box-shadow: 0px 1px 3px 1px rgba(0, 0, 0, 0.15);\n",
              "      filter: drop-shadow(0px 1px 2px rgba(0, 0, 0, 0.3));\n",
              "      fill: #FFFFFF;\n",
              "    }\n",
              "  </style>\n",
              "\n",
              "      <script>\n",
              "        const buttonEl =\n",
              "          document.querySelector('#df-9cc27c1a-9c96-4695-932c-7c82509e8bc5 button.colab-df-convert');\n",
              "        buttonEl.style.display =\n",
              "          google.colab.kernel.accessAllowed ? 'block' : 'none';\n",
              "\n",
              "        async function convertToInteractive(key) {\n",
              "          const element = document.querySelector('#df-9cc27c1a-9c96-4695-932c-7c82509e8bc5');\n",
              "          const dataTable =\n",
              "            await google.colab.kernel.invokeFunction('convertToInteractive',\n",
              "                                                     [key], {});\n",
              "          if (!dataTable) return;\n",
              "\n",
              "          const docLinkHtml = 'Like what you see? Visit the ' +\n",
              "            '<a target=\"_blank\" href=https://colab.research.google.com/notebooks/data_table.ipynb>data table notebook</a>'\n",
              "            + ' to learn more about interactive tables.';\n",
              "          element.innerHTML = '';\n",
              "          dataTable['output_type'] = 'display_data';\n",
              "          await google.colab.output.renderOutput(dataTable, element);\n",
              "          const docLink = document.createElement('div');\n",
              "          docLink.innerHTML = docLinkHtml;\n",
              "          element.appendChild(docLink);\n",
              "        }\n",
              "      </script>\n",
              "    </div>\n",
              "  </div>\n",
              "  "
            ]
          },
          "metadata": {},
          "execution_count": 10
        }
      ]
    },
    {
      "cell_type": "code",
      "metadata": {
        "colab": {
          "base_uri": "https://localhost:8080/",
          "height": 237
        },
        "id": "iou3sW2DGpy2",
        "outputId": "bd7877e0-867c-4d37-8b90-0c49e72f4e46"
      },
      "source": [
        "#Get rid of return column for classifiers\n",
        "targetclass = target.drop(axis=1, columns='return')\n",
        "\n",
        "#Removes the first row of labels since we are correlating today's features with tomorrow's opening values\n",
        "targetclass = targetclass[1:] \n",
        "targetclass.head()            "
      ],
      "execution_count": null,
      "outputs": [
        {
          "output_type": "execute_result",
          "data": {
            "text/plain": [
              "                           direction\n",
              "Date                                \n",
              "2022-01-05 00:00:00-05:00          0\n",
              "2022-01-06 00:00:00-05:00          0\n",
              "2022-01-07 00:00:00-05:00          1\n",
              "2022-01-10 00:00:00-05:00          0\n",
              "2022-01-11 00:00:00-05:00          1"
            ],
            "text/html": [
              "\n",
              "  <div id=\"df-4b6fd796-e68d-44a4-850e-b5f2789d850a\">\n",
              "    <div class=\"colab-df-container\">\n",
              "      <div>\n",
              "<style scoped>\n",
              "    .dataframe tbody tr th:only-of-type {\n",
              "        vertical-align: middle;\n",
              "    }\n",
              "\n",
              "    .dataframe tbody tr th {\n",
              "        vertical-align: top;\n",
              "    }\n",
              "\n",
              "    .dataframe thead th {\n",
              "        text-align: right;\n",
              "    }\n",
              "</style>\n",
              "<table border=\"1\" class=\"dataframe\">\n",
              "  <thead>\n",
              "    <tr style=\"text-align: right;\">\n",
              "      <th></th>\n",
              "      <th>direction</th>\n",
              "    </tr>\n",
              "    <tr>\n",
              "      <th>Date</th>\n",
              "      <th></th>\n",
              "    </tr>\n",
              "  </thead>\n",
              "  <tbody>\n",
              "    <tr>\n",
              "      <th>2022-01-05 00:00:00-05:00</th>\n",
              "      <td>0</td>\n",
              "    </tr>\n",
              "    <tr>\n",
              "      <th>2022-01-06 00:00:00-05:00</th>\n",
              "      <td>0</td>\n",
              "    </tr>\n",
              "    <tr>\n",
              "      <th>2022-01-07 00:00:00-05:00</th>\n",
              "      <td>1</td>\n",
              "    </tr>\n",
              "    <tr>\n",
              "      <th>2022-01-10 00:00:00-05:00</th>\n",
              "      <td>0</td>\n",
              "    </tr>\n",
              "    <tr>\n",
              "      <th>2022-01-11 00:00:00-05:00</th>\n",
              "      <td>1</td>\n",
              "    </tr>\n",
              "  </tbody>\n",
              "</table>\n",
              "</div>\n",
              "      <button class=\"colab-df-convert\" onclick=\"convertToInteractive('df-4b6fd796-e68d-44a4-850e-b5f2789d850a')\"\n",
              "              title=\"Convert this dataframe to an interactive table.\"\n",
              "              style=\"display:none;\">\n",
              "        \n",
              "  <svg xmlns=\"http://www.w3.org/2000/svg\" height=\"24px\"viewBox=\"0 0 24 24\"\n",
              "       width=\"24px\">\n",
              "    <path d=\"M0 0h24v24H0V0z\" fill=\"none\"/>\n",
              "    <path d=\"M18.56 5.44l.94 2.06.94-2.06 2.06-.94-2.06-.94-.94-2.06-.94 2.06-2.06.94zm-11 1L8.5 8.5l.94-2.06 2.06-.94-2.06-.94L8.5 2.5l-.94 2.06-2.06.94zm10 10l.94 2.06.94-2.06 2.06-.94-2.06-.94-.94-2.06-.94 2.06-2.06.94z\"/><path d=\"M17.41 7.96l-1.37-1.37c-.4-.4-.92-.59-1.43-.59-.52 0-1.04.2-1.43.59L10.3 9.45l-7.72 7.72c-.78.78-.78 2.05 0 2.83L4 21.41c.39.39.9.59 1.41.59.51 0 1.02-.2 1.41-.59l7.78-7.78 2.81-2.81c.8-.78.8-2.07 0-2.86zM5.41 20L4 18.59l7.72-7.72 1.47 1.35L5.41 20z\"/>\n",
              "  </svg>\n",
              "      </button>\n",
              "      \n",
              "  <style>\n",
              "    .colab-df-container {\n",
              "      display:flex;\n",
              "      flex-wrap:wrap;\n",
              "      gap: 12px;\n",
              "    }\n",
              "\n",
              "    .colab-df-convert {\n",
              "      background-color: #E8F0FE;\n",
              "      border: none;\n",
              "      border-radius: 50%;\n",
              "      cursor: pointer;\n",
              "      display: none;\n",
              "      fill: #1967D2;\n",
              "      height: 32px;\n",
              "      padding: 0 0 0 0;\n",
              "      width: 32px;\n",
              "    }\n",
              "\n",
              "    .colab-df-convert:hover {\n",
              "      background-color: #E2EBFA;\n",
              "      box-shadow: 0px 1px 2px rgba(60, 64, 67, 0.3), 0px 1px 3px 1px rgba(60, 64, 67, 0.15);\n",
              "      fill: #174EA6;\n",
              "    }\n",
              "\n",
              "    [theme=dark] .colab-df-convert {\n",
              "      background-color: #3B4455;\n",
              "      fill: #D2E3FC;\n",
              "    }\n",
              "\n",
              "    [theme=dark] .colab-df-convert:hover {\n",
              "      background-color: #434B5C;\n",
              "      box-shadow: 0px 1px 3px 1px rgba(0, 0, 0, 0.15);\n",
              "      filter: drop-shadow(0px 1px 2px rgba(0, 0, 0, 0.3));\n",
              "      fill: #FFFFFF;\n",
              "    }\n",
              "  </style>\n",
              "\n",
              "      <script>\n",
              "        const buttonEl =\n",
              "          document.querySelector('#df-4b6fd796-e68d-44a4-850e-b5f2789d850a button.colab-df-convert');\n",
              "        buttonEl.style.display =\n",
              "          google.colab.kernel.accessAllowed ? 'block' : 'none';\n",
              "\n",
              "        async function convertToInteractive(key) {\n",
              "          const element = document.querySelector('#df-4b6fd796-e68d-44a4-850e-b5f2789d850a');\n",
              "          const dataTable =\n",
              "            await google.colab.kernel.invokeFunction('convertToInteractive',\n",
              "                                                     [key], {});\n",
              "          if (!dataTable) return;\n",
              "\n",
              "          const docLinkHtml = 'Like what you see? Visit the ' +\n",
              "            '<a target=\"_blank\" href=https://colab.research.google.com/notebooks/data_table.ipynb>data table notebook</a>'\n",
              "            + ' to learn more about interactive tables.';\n",
              "          element.innerHTML = '';\n",
              "          dataTable['output_type'] = 'display_data';\n",
              "          await google.colab.output.renderOutput(dataTable, element);\n",
              "          const docLink = document.createElement('div');\n",
              "          docLink.innerHTML = docLinkHtml;\n",
              "          element.appendChild(docLink);\n",
              "        }\n",
              "      </script>\n",
              "    </div>\n",
              "  </div>\n",
              "  "
            ]
          },
          "metadata": {},
          "execution_count": 11
        }
      ]
    },
    {
      "cell_type": "code",
      "metadata": {
        "colab": {
          "base_uri": "https://localhost:8080/",
          "height": 237
        },
        "id": "9MtKVUFyGw71",
        "outputId": "6dbba262-ef50-4058-8dc9-61e5b92cfec9"
      },
      "source": [
        "#Get rid of direction column for regressors\n",
        "targetvalue = target.drop(axis=1, columns='direction')\n",
        "targetvalue = targetvalue[1:] #Removes the first row of labels since we are correlating today's features with tomorrow's opening values\n",
        "targetvalue.head()               "
      ],
      "execution_count": null,
      "outputs": [
        {
          "output_type": "execute_result",
          "data": {
            "text/plain": [
              "                             return\n",
              "Date                               \n",
              "2022-01-05 00:00:00-05:00 -0.000501\n",
              "2022-01-06 00:00:00-05:00 -0.012691\n",
              "2022-01-07 00:00:00-05:00  0.005174\n",
              "2022-01-10 00:00:00-05:00 -0.017947\n",
              "2022-01-11 00:00:00-05:00  0.000755"
            ],
            "text/html": [
              "\n",
              "  <div id=\"df-3ca24478-7484-4cc0-a910-bf21ffbe4131\">\n",
              "    <div class=\"colab-df-container\">\n",
              "      <div>\n",
              "<style scoped>\n",
              "    .dataframe tbody tr th:only-of-type {\n",
              "        vertical-align: middle;\n",
              "    }\n",
              "\n",
              "    .dataframe tbody tr th {\n",
              "        vertical-align: top;\n",
              "    }\n",
              "\n",
              "    .dataframe thead th {\n",
              "        text-align: right;\n",
              "    }\n",
              "</style>\n",
              "<table border=\"1\" class=\"dataframe\">\n",
              "  <thead>\n",
              "    <tr style=\"text-align: right;\">\n",
              "      <th></th>\n",
              "      <th>return</th>\n",
              "    </tr>\n",
              "    <tr>\n",
              "      <th>Date</th>\n",
              "      <th></th>\n",
              "    </tr>\n",
              "  </thead>\n",
              "  <tbody>\n",
              "    <tr>\n",
              "      <th>2022-01-05 00:00:00-05:00</th>\n",
              "      <td>-0.000501</td>\n",
              "    </tr>\n",
              "    <tr>\n",
              "      <th>2022-01-06 00:00:00-05:00</th>\n",
              "      <td>-0.012691</td>\n",
              "    </tr>\n",
              "    <tr>\n",
              "      <th>2022-01-07 00:00:00-05:00</th>\n",
              "      <td>0.005174</td>\n",
              "    </tr>\n",
              "    <tr>\n",
              "      <th>2022-01-10 00:00:00-05:00</th>\n",
              "      <td>-0.017947</td>\n",
              "    </tr>\n",
              "    <tr>\n",
              "      <th>2022-01-11 00:00:00-05:00</th>\n",
              "      <td>0.000755</td>\n",
              "    </tr>\n",
              "  </tbody>\n",
              "</table>\n",
              "</div>\n",
              "      <button class=\"colab-df-convert\" onclick=\"convertToInteractive('df-3ca24478-7484-4cc0-a910-bf21ffbe4131')\"\n",
              "              title=\"Convert this dataframe to an interactive table.\"\n",
              "              style=\"display:none;\">\n",
              "        \n",
              "  <svg xmlns=\"http://www.w3.org/2000/svg\" height=\"24px\"viewBox=\"0 0 24 24\"\n",
              "       width=\"24px\">\n",
              "    <path d=\"M0 0h24v24H0V0z\" fill=\"none\"/>\n",
              "    <path d=\"M18.56 5.44l.94 2.06.94-2.06 2.06-.94-2.06-.94-.94-2.06-.94 2.06-2.06.94zm-11 1L8.5 8.5l.94-2.06 2.06-.94-2.06-.94L8.5 2.5l-.94 2.06-2.06.94zm10 10l.94 2.06.94-2.06 2.06-.94-2.06-.94-.94-2.06-.94 2.06-2.06.94z\"/><path d=\"M17.41 7.96l-1.37-1.37c-.4-.4-.92-.59-1.43-.59-.52 0-1.04.2-1.43.59L10.3 9.45l-7.72 7.72c-.78.78-.78 2.05 0 2.83L4 21.41c.39.39.9.59 1.41.59.51 0 1.02-.2 1.41-.59l7.78-7.78 2.81-2.81c.8-.78.8-2.07 0-2.86zM5.41 20L4 18.59l7.72-7.72 1.47 1.35L5.41 20z\"/>\n",
              "  </svg>\n",
              "      </button>\n",
              "      \n",
              "  <style>\n",
              "    .colab-df-container {\n",
              "      display:flex;\n",
              "      flex-wrap:wrap;\n",
              "      gap: 12px;\n",
              "    }\n",
              "\n",
              "    .colab-df-convert {\n",
              "      background-color: #E8F0FE;\n",
              "      border: none;\n",
              "      border-radius: 50%;\n",
              "      cursor: pointer;\n",
              "      display: none;\n",
              "      fill: #1967D2;\n",
              "      height: 32px;\n",
              "      padding: 0 0 0 0;\n",
              "      width: 32px;\n",
              "    }\n",
              "\n",
              "    .colab-df-convert:hover {\n",
              "      background-color: #E2EBFA;\n",
              "      box-shadow: 0px 1px 2px rgba(60, 64, 67, 0.3), 0px 1px 3px 1px rgba(60, 64, 67, 0.15);\n",
              "      fill: #174EA6;\n",
              "    }\n",
              "\n",
              "    [theme=dark] .colab-df-convert {\n",
              "      background-color: #3B4455;\n",
              "      fill: #D2E3FC;\n",
              "    }\n",
              "\n",
              "    [theme=dark] .colab-df-convert:hover {\n",
              "      background-color: #434B5C;\n",
              "      box-shadow: 0px 1px 3px 1px rgba(0, 0, 0, 0.15);\n",
              "      filter: drop-shadow(0px 1px 2px rgba(0, 0, 0, 0.3));\n",
              "      fill: #FFFFFF;\n",
              "    }\n",
              "  </style>\n",
              "\n",
              "      <script>\n",
              "        const buttonEl =\n",
              "          document.querySelector('#df-3ca24478-7484-4cc0-a910-bf21ffbe4131 button.colab-df-convert');\n",
              "        buttonEl.style.display =\n",
              "          google.colab.kernel.accessAllowed ? 'block' : 'none';\n",
              "\n",
              "        async function convertToInteractive(key) {\n",
              "          const element = document.querySelector('#df-3ca24478-7484-4cc0-a910-bf21ffbe4131');\n",
              "          const dataTable =\n",
              "            await google.colab.kernel.invokeFunction('convertToInteractive',\n",
              "                                                     [key], {});\n",
              "          if (!dataTable) return;\n",
              "\n",
              "          const docLinkHtml = 'Like what you see? Visit the ' +\n",
              "            '<a target=\"_blank\" href=https://colab.research.google.com/notebooks/data_table.ipynb>data table notebook</a>'\n",
              "            + ' to learn more about interactive tables.';\n",
              "          element.innerHTML = '';\n",
              "          dataTable['output_type'] = 'display_data';\n",
              "          await google.colab.output.renderOutput(dataTable, element);\n",
              "          const docLink = document.createElement('div');\n",
              "          docLink.innerHTML = docLinkHtml;\n",
              "          element.appendChild(docLink);\n",
              "        }\n",
              "      </script>\n",
              "    </div>\n",
              "  </div>\n",
              "  "
            ]
          },
          "metadata": {},
          "execution_count": 12
        }
      ]
    },
    {
      "cell_type": "code",
      "metadata": {
        "id": "_nlb8M34Fk4k"
      },
      "source": [
        "#Standardize data\n",
        "from sklearn.preprocessing import StandardScaler\n",
        "from sklearn.model_selection import train_test_split\n",
        "\n",
        "#Need to covert column vector into a 1-d Numpy array\n",
        "targetclass = np.ravel(targetclass) \n",
        "\n",
        "#Every feature how have a mean of zero and standard deviation of 1\n",
        "scaler = StandardScaler() \n",
        "features_standardized = scaler.fit_transform(features) "
      ],
      "execution_count": null,
      "outputs": []
    },
    {
      "cell_type": "code",
      "metadata": {
        "id": "cHh95RAkFrYN"
      },
      "source": [
        "#Split dataset into train and test subsets. Test size is 25% of the total dataset and the data are not shuffled to preserve temporal structure of timeseries\n",
        "\n",
        "features_train, features_test, targetclass_train, targetclass_test = train_test_split(features_standardized, targetclass, test_size = 0.25, shuffle=False, random_state=0)"
      ],
      "execution_count": null,
      "outputs": []
    },
    {
      "cell_type": "code",
      "metadata": {
        "id": "bVkpKMeDexul"
      },
      "source": [
        "#Reshape training data because Conv1D only accepts input shape as (samples, timesteps, features)\n",
        "\n",
        "samples = features_train.shape[0]\n",
        "\n",
        "#Convert features into time steps\n",
        "timesteps = features_train.shape[1]\n",
        "\n",
        "#Each feature is now represented by 1 number because we are going to treat input data as a univariate time series, with only one feature per time step.\n",
        "cnn_feature = 1\n",
        "\n",
        "train_data = features_train.reshape(samples, timesteps, cnn_feature)"
      ],
      "execution_count": null,
      "outputs": []
    },
    {
      "cell_type": "code",
      "metadata": {
        "id": "AYom4D9_83Ew"
      },
      "source": [
        "#Reshape test data in a similar manner\n",
        "test_data = features_test.reshape(features_test.shape[0], features_test.shape[1], cnn_feature)"
      ],
      "execution_count": null,
      "outputs": []
    },
    {
      "cell_type": "markdown",
      "metadata": {
        "id": "sEIJke_Qt0S4"
      },
      "source": [
        "# Develop Network"
      ]
    },
    {
      "cell_type": "code",
      "metadata": {
        "id": "2XT9br6VrDhY"
      },
      "source": [
        "#Stacking layers to create a convolutional network\n",
        "cnn = models.Sequential()\n",
        "\n",
        "#Conv1D is used since we are dealing with 1D tensors or vectors\n",
        "#Filter performs the convolution operation on the input data. Kernel size is the shape of the filter matrix. \n",
        "cnn.add(layers.Conv1D(filters=64, kernel_size=2, activation='relu', input_shape=(timesteps, cnn_feature)))\n",
        "\n",
        "#Add regularizing layer that drops half the neurons randomly and reduces overfitting\n",
        "cnn.add(layers.Dropout(0.5))\n",
        "\n",
        "cnn.add(layers.Conv1D(filters=32, kernel_size=2, activation='relu'))\n",
        "\n",
        "#Maxpooling layers summarizes the output of all the previous layers\n",
        "cnn.add(layers.MaxPooling1D(pool_size=2))\n",
        "\n",
        "#Need to flatten the output\n",
        "cnn.add(layers.Flatten())\n",
        "\n",
        "#Add a fully connected layer that will classify the data\n",
        "cnn.add(layers.Dense(units=1, activation='relu'))\n",
        "\n",
        "#Network will minimize the binary cross entropy loss function using the Adam optimizer and will evaluate success using accuracy metric\n",
        "cnn.compile(loss='binary_crossentropy', optimizer='adam', metrics='accuracy')\n"
      ],
      "execution_count": null,
      "outputs": []
    },
    {
      "cell_type": "code",
      "metadata": {
        "colab": {
          "base_uri": "https://localhost:8080/"
        },
        "id": "1iMH8p3R1wRX",
        "outputId": "b8fde1a7-3b51-4b68-c7f3-a2f89790af37"
      },
      "source": [
        "#Summarize the network\n",
        "cnn.summary()"
      ],
      "execution_count": null,
      "outputs": [
        {
          "output_type": "stream",
          "name": "stdout",
          "text": [
            "Model: \"sequential\"\n",
            "_________________________________________________________________\n",
            " Layer (type)                Output Shape              Param #   \n",
            "=================================================================\n",
            " conv1d (Conv1D)             (None, 3, 64)             192       \n",
            "                                                                 \n",
            " dropout (Dropout)           (None, 3, 64)             0         \n",
            "                                                                 \n",
            " conv1d_1 (Conv1D)           (None, 2, 32)             4128      \n",
            "                                                                 \n",
            " max_pooling1d (MaxPooling1D  (None, 1, 32)            0         \n",
            " )                                                               \n",
            "                                                                 \n",
            " flatten (Flatten)           (None, 32)                0         \n",
            "                                                                 \n",
            " dense (Dense)               (None, 1)                 33        \n",
            "                                                                 \n",
            "=================================================================\n",
            "Total params: 4,353\n",
            "Trainable params: 4,353\n",
            "Non-trainable params: 0\n",
            "_________________________________________________________________\n"
          ]
        }
      ]
    },
    {
      "cell_type": "markdown",
      "metadata": {
        "id": "jOlV362nvh89"
      },
      "source": [
        "# Train and Test Network"
      ]
    },
    {
      "cell_type": "code",
      "metadata": {
        "colab": {
          "base_uri": "https://localhost:8080/"
        },
        "id": "lDkg1ViutSPi",
        "outputId": "77054ccd-2be4-43fc-988b-1a563ceb92b7"
      },
      "source": [
        "cnn.fit(train_data, targetclass_train, epochs=20);"
      ],
      "execution_count": null,
      "outputs": [
        {
          "output_type": "stream",
          "name": "stdout",
          "text": [
            "Epoch 1/20\n",
            "9/9 [==============================] - 2s 6ms/step - loss: 1.3424 - accuracy: 0.5344\n",
            "Epoch 2/20\n",
            "9/9 [==============================] - 0s 6ms/step - loss: 1.3216 - accuracy: 0.4771\n",
            "Epoch 3/20\n",
            "9/9 [==============================] - 0s 6ms/step - loss: 1.0698 - accuracy: 0.5191\n",
            "Epoch 4/20\n",
            "9/9 [==============================] - 0s 5ms/step - loss: 1.0788 - accuracy: 0.5153\n",
            "Epoch 5/20\n",
            "9/9 [==============================] - 0s 5ms/step - loss: 0.9208 - accuracy: 0.4847\n",
            "Epoch 6/20\n",
            "9/9 [==============================] - 0s 5ms/step - loss: 0.9724 - accuracy: 0.5153\n",
            "Epoch 7/20\n",
            "9/9 [==============================] - 0s 7ms/step - loss: 0.9610 - accuracy: 0.5076\n",
            "Epoch 8/20\n",
            "9/9 [==============================] - 0s 6ms/step - loss: 1.0778 - accuracy: 0.5305\n",
            "Epoch 9/20\n",
            "9/9 [==============================] - 0s 5ms/step - loss: 1.0175 - accuracy: 0.5000\n",
            "Epoch 10/20\n",
            "9/9 [==============================] - 0s 6ms/step - loss: 0.9440 - accuracy: 0.4771\n",
            "Epoch 11/20\n",
            "9/9 [==============================] - 0s 6ms/step - loss: 0.8459 - accuracy: 0.4847\n",
            "Epoch 12/20\n",
            "9/9 [==============================] - 0s 7ms/step - loss: 0.8264 - accuracy: 0.5305\n",
            "Epoch 13/20\n",
            "9/9 [==============================] - 0s 6ms/step - loss: 0.8304 - accuracy: 0.5382\n",
            "Epoch 14/20\n",
            "9/9 [==============================] - 0s 6ms/step - loss: 0.8794 - accuracy: 0.5344\n",
            "Epoch 15/20\n",
            "9/9 [==============================] - 0s 5ms/step - loss: 0.9473 - accuracy: 0.5305\n",
            "Epoch 16/20\n",
            "9/9 [==============================] - 0s 5ms/step - loss: 0.7689 - accuracy: 0.5496\n",
            "Epoch 17/20\n",
            "9/9 [==============================] - 0s 5ms/step - loss: 0.8508 - accuracy: 0.5038\n",
            "Epoch 18/20\n",
            "9/9 [==============================] - 0s 7ms/step - loss: 0.7411 - accuracy: 0.5038\n",
            "Epoch 19/20\n",
            "9/9 [==============================] - 0s 6ms/step - loss: 0.8426 - accuracy: 0.5573\n",
            "Epoch 20/20\n",
            "9/9 [==============================] - 0s 6ms/step - loss: 0.7184 - accuracy: 0.5534\n"
          ]
        }
      ]
    },
    {
      "cell_type": "code",
      "metadata": {
        "colab": {
          "base_uri": "https://localhost:8080/"
        },
        "id": "A0ANKiqn99xD",
        "outputId": "1d00aa20-b718-4668-c192-f7fdc48f5fd6"
      },
      "source": [
        "cnn.evaluate(test_data, targetclass_test)"
      ],
      "execution_count": null,
      "outputs": [
        {
          "output_type": "stream",
          "name": "stdout",
          "text": [
            "3/3 [==============================] - 0s 5ms/step - loss: 0.7177 - accuracy: 0.5795\n"
          ]
        },
        {
          "output_type": "execute_result",
          "data": {
            "text/plain": [
              "[0.717738687992096, 0.5795454382896423]"
            ]
          },
          "metadata": {},
          "execution_count": 20
        }
      ]
    }
  ]
}