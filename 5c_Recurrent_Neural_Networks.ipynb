{
  "nbformat": 4,
  "nbformat_minor": 0,
  "metadata": {
    "colab": {
      "provenance": [],
      "include_colab_link": true
    },
    "kernelspec": {
      "name": "python3",
      "display_name": "Python 3"
    },
    "language_info": {
      "name": "python"
    }
  },
  "cells": [
    {
      "cell_type": "markdown",
      "metadata": {
        "id": "view-in-github",
        "colab_type": "text"
      },
      "source": [
        "<a href=\"https://colab.research.google.com/github/obliquesignal/algo-trading-bootcamp/blob/master/5c_Recurrent_Neural_Networks.ipynb\" target=\"_parent\"><img src=\"https://colab.research.google.com/assets/colab-badge.svg\" alt=\"Open In Colab\"/></a>"
      ]
    },
    {
      "cell_type": "markdown",
      "metadata": {
        "id": "-meI9bYakuW4"
      },
      "source": [
        "# Import Libraries"
      ]
    },
    {
      "cell_type": "code",
      "metadata": {
        "id": "YZTvocXC-cGR"
      },
      "source": [
        "from keras import models\n",
        "from keras import layers"
      ],
      "execution_count": null,
      "outputs": []
    },
    {
      "cell_type": "code",
      "metadata": {
        "id": "pWwYa5oeLiKv",
        "colab": {
          "base_uri": "https://localhost:8080/"
        },
        "outputId": "540c692f-8256-4d6d-e45b-edd91f774058"
      },
      "source": [
        "#Import Python Libraries\n",
        "import numpy as np\n",
        "import pandas as pd\n",
        "from datetime import datetime\n",
        "import matplotlib.pyplot as plt\n",
        "plt.style.use('seaborn')\n",
        "\n",
        "!pip install yfinance -q\n",
        "import yfinance as yf"
      ],
      "execution_count": null,
      "outputs": [
        {
          "output_type": "stream",
          "name": "stderr",
          "text": [
            "<ipython-input-2-1a3c8ac395cc>:6: MatplotlibDeprecationWarning: The seaborn styles shipped by Matplotlib are deprecated since 3.6, as they no longer correspond to the styles shipped by seaborn. However, they will remain available as 'seaborn-v0_8-<style>'. Alternatively, directly use the seaborn API instead.\n",
            "  plt.style.use('seaborn')\n"
          ]
        }
      ]
    },
    {
      "cell_type": "markdown",
      "metadata": {
        "id": "mkgf23TLl7pY"
      },
      "source": [
        "# Import and Process Data"
      ]
    },
    {
      "cell_type": "code",
      "metadata": {
        "id": "9EaNbS2PLtEG"
      },
      "source": [
        "#Import training data\n",
        "start = datetime(2022, 10, 1)\n",
        "end = datetime(2023, 2, 28)\n",
        "\n",
        "train_data = yf.Ticker('AAPL').history(start=start, end=end) #Apple Inc. stock"
      ],
      "execution_count": null,
      "outputs": []
    },
    {
      "cell_type": "code",
      "metadata": {
        "id": "YZKJ4M7fdcCc"
      },
      "source": [
        "#Import test data which is different from training data and leaves a gap\n",
        "start = datetime(2023, 3, 15)\n",
        "end = datetime(2023, 5, 29)\n",
        "\n",
        "test_data = yf.Ticker('AAPL').history(start=start, end=end) #Apple Inc. stock"
      ],
      "execution_count": null,
      "outputs": []
    },
    {
      "cell_type": "code",
      "metadata": {
        "id": "YcTHsAwKMhsg"
      },
      "source": [
        "#Get only closing prices for training data\n",
        "train_data = train_data.iloc[:, 3].values\n",
        "\n",
        "#Get only closing prices for test data\n",
        "test_data = test_data.iloc[:, 3].values"
      ],
      "execution_count": null,
      "outputs": []
    },
    {
      "cell_type": "code",
      "metadata": {
        "id": "TcHj-V02NCvQ"
      },
      "source": [
        "from sklearn.preprocessing import StandardScaler\n",
        "\n",
        "#Standardize training and test data so that they have a mean of zero and standard deviation of 1\n",
        "scaler = StandardScaler()\n",
        "\n",
        "train_data = scaler.fit_transform(train_data.reshape(-1,1))\n",
        "test_data = scaler.fit_transform(test_data.reshape(-1, 1))"
      ],
      "execution_count": null,
      "outputs": []
    },
    {
      "cell_type": "code",
      "metadata": {
        "id": "NbQEUt7WUoFo"
      },
      "source": [
        "#Create x and y training lists so that y depend on the 20 timesteps/days of x values\n",
        "xtrain_data = []\n",
        "ytrain_data = []\n",
        "\n",
        "for i in range(20, len(train_data)):\n",
        "  xtrain_data.append(train_data[i-20:i,0])\n",
        "  ytrain_data.append(train_data[i,0])"
      ],
      "execution_count": null,
      "outputs": []
    },
    {
      "cell_type": "code",
      "metadata": {
        "id": "XY6FCaq_fzte"
      },
      "source": [
        "#Create x and y test lists so that y depend on the 20 timesteps/days of x values\n",
        "xtest_data = []\n",
        "ytest_data = []\n",
        "\n",
        "for i in range(20, len(test_data)):\n",
        "  xtest_data.append(test_data[i-20:i,0])\n",
        "  ytest_data.append(test_data[i,0])"
      ],
      "execution_count": null,
      "outputs": []
    },
    {
      "cell_type": "code",
      "metadata": {
        "colab": {
          "base_uri": "https://localhost:8080/"
        },
        "id": "ewF4wNDSVuqe",
        "outputId": "618ffe2d-d6ba-456b-a6cc-a814aadf3b62"
      },
      "source": [
        "#Convert x and y training lists into Numpy arrays and reshape x as (samples, timesteps, features)\n",
        "xtrain_data = np.array(xtrain_data)\n",
        "ytrain_data = np.array(ytrain_data)\n",
        "xtrain_data = np.reshape(xtrain_data, (xtrain_data.shape[0], xtrain_data.shape[1], 1))\n",
        "xtrain_data.shape"
      ],
      "execution_count": null,
      "outputs": [
        {
          "output_type": "execute_result",
          "data": {
            "text/plain": [
              "(81, 20, 1)"
            ]
          },
          "metadata": {},
          "execution_count": 9
        }
      ]
    },
    {
      "cell_type": "code",
      "metadata": {
        "colab": {
          "base_uri": "https://localhost:8080/"
        },
        "id": "9-S11bqXgOB5",
        "outputId": "3deddd05-612c-4bc5-cff7-dd385362298c"
      },
      "source": [
        "#Convert x and y test lists into Numpy arrays and reshape x as (samples, timesteps, features)\n",
        "xtest_data = np.array(xtest_data)\n",
        "ytest_data = np.array(ytest_data)\n",
        "xtest_data = np.reshape(xtest_data, (xtest_data.shape[0], xtest_data.shape[1], 1))\n",
        "xtest_data.shape"
      ],
      "execution_count": null,
      "outputs": [
        {
          "output_type": "execute_result",
          "data": {
            "text/plain": [
              "(32, 20, 1)"
            ]
          },
          "metadata": {},
          "execution_count": 10
        }
      ]
    },
    {
      "cell_type": "markdown",
      "metadata": {
        "id": "X-zwxmfhoZ-G"
      },
      "source": [
        "# Develop Network"
      ]
    },
    {
      "cell_type": "code",
      "metadata": {
        "id": "UwYMVmA-XQJA"
      },
      "source": [
        "#Stacking recurrent neural network linearly\n",
        "rnn = models.Sequential()\n",
        "\n",
        "#Add first LSTM layer with 64 units that accepts the shape of xtrain and returns a sequence to the next layer\n",
        "rnn.add(layers.LSTM(units=64, return_sequences=True, input_shape=(xtrain_data.shape[1],1)))\n",
        "\n",
        "#Add regularizing layer that drops half the input features randomly\n",
        "rnn.add(layers.Dropout(0.5))\n",
        "\n",
        "#Last LSTM layer since return sequence is false\n",
        "rnn.add(layers.LSTM(units = 32, return_sequences=False))\n",
        "\n",
        "#Add regularizing layer that drops half the neurons randomly\n",
        "rnn.add(layers.Dropout(0.5))\n",
        "\n",
        "#Add fully connected layer that will output one number\n",
        "rnn.add(layers.Dense(units=1))"
      ],
      "execution_count": null,
      "outputs": []
    },
    {
      "cell_type": "code",
      "metadata": {
        "id": "0NP1Ft72Z7JN"
      },
      "source": [
        "#Specify the learning parameters: mse is mean square error and mae is mean absolute error\n",
        "rnn.compile(optimizer='adam', loss='mse', metrics='mae')"
      ],
      "execution_count": null,
      "outputs": []
    },
    {
      "cell_type": "code",
      "metadata": {
        "colab": {
          "base_uri": "https://localhost:8080/"
        },
        "id": "RFxZOR15aYtX",
        "outputId": "6f812f85-33de-4953-e1e0-4bc5b02b7adb"
      },
      "source": [
        "#Summarize network \n",
        "rnn.summary()"
      ],
      "execution_count": null,
      "outputs": [
        {
          "output_type": "stream",
          "name": "stdout",
          "text": [
            "Model: \"sequential\"\n",
            "_________________________________________________________________\n",
            " Layer (type)                Output Shape              Param #   \n",
            "=================================================================\n",
            " lstm (LSTM)                 (None, 20, 64)            16896     \n",
            "                                                                 \n",
            " dropout (Dropout)           (None, 20, 64)            0         \n",
            "                                                                 \n",
            " lstm_1 (LSTM)               (None, 32)                12416     \n",
            "                                                                 \n",
            " dropout_1 (Dropout)         (None, 32)                0         \n",
            "                                                                 \n",
            " dense (Dense)               (None, 1)                 33        \n",
            "                                                                 \n",
            "=================================================================\n",
            "Total params: 29,345\n",
            "Trainable params: 29,345\n",
            "Non-trainable params: 0\n",
            "_________________________________________________________________\n"
          ]
        }
      ]
    },
    {
      "cell_type": "markdown",
      "metadata": {
        "id": "oFmwzIbuvpX_"
      },
      "source": [
        "# Train and Test Network"
      ]
    },
    {
      "cell_type": "code",
      "metadata": {
        "colab": {
          "base_uri": "https://localhost:8080/"
        },
        "id": "ttsTHISDagSM",
        "outputId": "fc379b20-7b66-4344-db97-7b961e001efe"
      },
      "source": [
        "#Train network on 30 full cylces or epoch with 32 mini batches of data\n",
        "rnn.fit(xtrain_data, ytrain_data, epochs=30, batch_size=32)"
      ],
      "execution_count": null,
      "outputs": [
        {
          "output_type": "stream",
          "name": "stdout",
          "text": [
            "Epoch 1/30\n",
            "3/3 [==============================] - 8s 48ms/step - loss: 1.2513 - mae: 0.9564\n",
            "Epoch 2/30\n",
            "3/3 [==============================] - 0s 75ms/step - loss: 1.0112 - mae: 0.8656\n",
            "Epoch 3/30\n",
            "3/3 [==============================] - 0s 36ms/step - loss: 0.8656 - mae: 0.8015\n",
            "Epoch 4/30\n",
            "3/3 [==============================] - 0s 32ms/step - loss: 0.8039 - mae: 0.7597\n",
            "Epoch 5/30\n",
            "3/3 [==============================] - 0s 41ms/step - loss: 0.7485 - mae: 0.7482\n",
            "Epoch 6/30\n",
            "3/3 [==============================] - 0s 37ms/step - loss: 0.6605 - mae: 0.6994\n",
            "Epoch 7/30\n",
            "3/3 [==============================] - 0s 34ms/step - loss: 0.6327 - mae: 0.6795\n",
            "Epoch 8/30\n",
            "3/3 [==============================] - 0s 33ms/step - loss: 0.6195 - mae: 0.6589\n",
            "Epoch 9/30\n",
            "3/3 [==============================] - 0s 37ms/step - loss: 0.5721 - mae: 0.6259\n",
            "Epoch 10/30\n",
            "3/3 [==============================] - 0s 37ms/step - loss: 0.5158 - mae: 0.6069\n",
            "Epoch 11/30\n",
            "3/3 [==============================] - 0s 33ms/step - loss: 0.4388 - mae: 0.5485\n",
            "Epoch 12/30\n",
            "3/3 [==============================] - 0s 43ms/step - loss: 0.4087 - mae: 0.5381\n",
            "Epoch 13/30\n",
            "3/3 [==============================] - 0s 37ms/step - loss: 0.3886 - mae: 0.5099\n",
            "Epoch 14/30\n",
            "3/3 [==============================] - 0s 24ms/step - loss: 0.3957 - mae: 0.5020\n",
            "Epoch 15/30\n",
            "3/3 [==============================] - 0s 24ms/step - loss: 0.4357 - mae: 0.5240\n",
            "Epoch 16/30\n",
            "3/3 [==============================] - 0s 34ms/step - loss: 0.3722 - mae: 0.4827\n",
            "Epoch 17/30\n",
            "3/3 [==============================] - 0s 59ms/step - loss: 0.3662 - mae: 0.4939\n",
            "Epoch 18/30\n",
            "3/3 [==============================] - 0s 50ms/step - loss: 0.3498 - mae: 0.4782\n",
            "Epoch 19/30\n",
            "3/3 [==============================] - 0s 34ms/step - loss: 0.4036 - mae: 0.4985\n",
            "Epoch 20/30\n",
            "3/3 [==============================] - 0s 56ms/step - loss: 0.3772 - mae: 0.4958\n",
            "Epoch 21/30\n",
            "3/3 [==============================] - 0s 61ms/step - loss: 0.3401 - mae: 0.4809\n",
            "Epoch 22/30\n",
            "3/3 [==============================] - 0s 55ms/step - loss: 0.3678 - mae: 0.4928\n",
            "Epoch 23/30\n",
            "3/3 [==============================] - 0s 75ms/step - loss: 0.3874 - mae: 0.5060\n",
            "Epoch 24/30\n",
            "3/3 [==============================] - 0s 66ms/step - loss: 0.4204 - mae: 0.5199\n",
            "Epoch 25/30\n",
            "3/3 [==============================] - 0s 75ms/step - loss: 0.3395 - mae: 0.4721\n",
            "Epoch 26/30\n",
            "3/3 [==============================] - 0s 49ms/step - loss: 0.3446 - mae: 0.4810\n",
            "Epoch 27/30\n",
            "3/3 [==============================] - 0s 59ms/step - loss: 0.3267 - mae: 0.4651\n",
            "Epoch 28/30\n",
            "3/3 [==============================] - 0s 89ms/step - loss: 0.3461 - mae: 0.4818\n",
            "Epoch 29/30\n",
            "3/3 [==============================] - 0s 59ms/step - loss: 0.3224 - mae: 0.4495\n",
            "Epoch 30/30\n",
            "3/3 [==============================] - 0s 66ms/step - loss: 0.3347 - mae: 0.4711\n"
          ]
        },
        {
          "output_type": "execute_result",
          "data": {
            "text/plain": [
              "<keras.callbacks.History at 0x7f8014203d60>"
            ]
          },
          "metadata": {},
          "execution_count": 14
        }
      ]
    },
    {
      "cell_type": "code",
      "metadata": {
        "colab": {
          "base_uri": "https://localhost:8080/"
        },
        "id": "xUr6JiYUgodN",
        "outputId": "f56b858d-21d3-424e-be2c-128219d1df2b"
      },
      "source": [
        "#Evaluate network on previously unseen and more recent test data\n",
        "rnn.evaluate(xtest_data, ytest_data)"
      ],
      "execution_count": null,
      "outputs": [
        {
          "output_type": "stream",
          "name": "stdout",
          "text": [
            "1/1 [==============================] - 3s 3s/step - loss: 0.2567 - mae: 0.4364\n"
          ]
        },
        {
          "output_type": "execute_result",
          "data": {
            "text/plain": [
              "[0.256708562374115, 0.43638885021209717]"
            ]
          },
          "metadata": {},
          "execution_count": 15
        }
      ]
    }
  ]
}