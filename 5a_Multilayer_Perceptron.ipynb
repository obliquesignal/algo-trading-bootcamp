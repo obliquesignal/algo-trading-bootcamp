{
  "nbformat": 4,
  "nbformat_minor": 0,
  "metadata": {
    "colab": {
      "provenance": [],
      "include_colab_link": true
    },
    "kernelspec": {
      "name": "python3",
      "display_name": "Python 3"
    },
    "language_info": {
      "name": "python"
    }
  },
  "cells": [
    {
      "cell_type": "markdown",
      "metadata": {
        "id": "view-in-github",
        "colab_type": "text"
      },
      "source": [
        "<a href=\"https://colab.research.google.com/github/obliquesignal/algo-trading-bootcamp/blob/master/5a_Multilayer_Perceptron.ipynb\" target=\"_parent\"><img src=\"https://colab.research.google.com/assets/colab-badge.svg\" alt=\"Open In Colab\"/></a>"
      ]
    },
    {
      "cell_type": "markdown",
      "metadata": {
        "id": "l6Wv8gAeTdbG"
      },
      "source": [
        "# Import Libraries"
      ]
    },
    {
      "cell_type": "code",
      "metadata": {
        "id": "Jb_bmHNWajSe"
      },
      "source": [
        "from keras import models\n",
        "from keras import layers"
      ],
      "execution_count": null,
      "outputs": []
    },
    {
      "cell_type": "code",
      "metadata": {
        "id": "fn9t9IQdWj8g"
      },
      "source": [
        "import numpy as np\n",
        "import pandas as pd\n",
        "import pandas_datareader.data as pdr\n",
        "from datetime import datetime\n",
        "\n",
        "import matplotlib.pyplot as plt\n",
        "plt.style.use('seaborn')"
      ],
      "execution_count": null,
      "outputs": []
    },
    {
      "cell_type": "markdown",
      "metadata": {
        "id": "ESNvj46qTldb"
      },
      "source": [
        "# Import and Process Data"
      ]
    },
    {
      "cell_type": "code",
      "metadata": {
        "id": "Oj638lUAluv-"
      },
      "source": [
        "start = datetime(1982, 1, 1)\n",
        "end = datetime(2020, 2, 29)\n",
        "\n",
        "recession = pdr.DataReader('USREC', 'fred', start, end) #NBER business cycle classification\n",
        "yield_curve = pdr.DataReader('T10Y3MM', 'fred', start, end) #Difference between the 3 month and 10 year treasury yields\n",
        "unemployment = pdr.DataReader('UNRATE', 'fred', start, end) #Unemployment rate\n",
        "industrial_capacity = pdr.DataReader('TCU', 'fred', start, end) #Total industrial capacity utilization"
      ],
      "execution_count": null,
      "outputs": []
    },
    {
      "cell_type": "code",
      "metadata": {
        "colab": {
          "base_uri": "https://localhost:8080/",
          "height": 238
        },
        "id": "TTO4l4PhXMH2",
        "outputId": "73aa475a-aa26-41d9-a125-50d77d7aa360"
      },
      "source": [
        "#Create target dataframe\n",
        "target = recession[1:] #Align target and feature rows\n",
        "target.head()"
      ],
      "execution_count": null,
      "outputs": [
        {
          "output_type": "execute_result",
          "data": {
            "text/plain": [
              "            USREC\n",
              "DATE             \n",
              "1982-02-01      1\n",
              "1982-03-01      1\n",
              "1982-04-01      1\n",
              "1982-05-01      1\n",
              "1982-06-01      1"
            ],
            "text/html": [
              "\n",
              "  <div id=\"df-5ff7b607-f987-4d3f-bb20-197f38fee51e\">\n",
              "    <div class=\"colab-df-container\">\n",
              "      <div>\n",
              "<style scoped>\n",
              "    .dataframe tbody tr th:only-of-type {\n",
              "        vertical-align: middle;\n",
              "    }\n",
              "\n",
              "    .dataframe tbody tr th {\n",
              "        vertical-align: top;\n",
              "    }\n",
              "\n",
              "    .dataframe thead th {\n",
              "        text-align: right;\n",
              "    }\n",
              "</style>\n",
              "<table border=\"1\" class=\"dataframe\">\n",
              "  <thead>\n",
              "    <tr style=\"text-align: right;\">\n",
              "      <th></th>\n",
              "      <th>USREC</th>\n",
              "    </tr>\n",
              "    <tr>\n",
              "      <th>DATE</th>\n",
              "      <th></th>\n",
              "    </tr>\n",
              "  </thead>\n",
              "  <tbody>\n",
              "    <tr>\n",
              "      <th>1982-02-01</th>\n",
              "      <td>1</td>\n",
              "    </tr>\n",
              "    <tr>\n",
              "      <th>1982-03-01</th>\n",
              "      <td>1</td>\n",
              "    </tr>\n",
              "    <tr>\n",
              "      <th>1982-04-01</th>\n",
              "      <td>1</td>\n",
              "    </tr>\n",
              "    <tr>\n",
              "      <th>1982-05-01</th>\n",
              "      <td>1</td>\n",
              "    </tr>\n",
              "    <tr>\n",
              "      <th>1982-06-01</th>\n",
              "      <td>1</td>\n",
              "    </tr>\n",
              "  </tbody>\n",
              "</table>\n",
              "</div>\n",
              "      <button class=\"colab-df-convert\" onclick=\"convertToInteractive('df-5ff7b607-f987-4d3f-bb20-197f38fee51e')\"\n",
              "              title=\"Convert this dataframe to an interactive table.\"\n",
              "              style=\"display:none;\">\n",
              "        \n",
              "  <svg xmlns=\"http://www.w3.org/2000/svg\" height=\"24px\"viewBox=\"0 0 24 24\"\n",
              "       width=\"24px\">\n",
              "    <path d=\"M0 0h24v24H0V0z\" fill=\"none\"/>\n",
              "    <path d=\"M18.56 5.44l.94 2.06.94-2.06 2.06-.94-2.06-.94-.94-2.06-.94 2.06-2.06.94zm-11 1L8.5 8.5l.94-2.06 2.06-.94-2.06-.94L8.5 2.5l-.94 2.06-2.06.94zm10 10l.94 2.06.94-2.06 2.06-.94-2.06-.94-.94-2.06-.94 2.06-2.06.94z\"/><path d=\"M17.41 7.96l-1.37-1.37c-.4-.4-.92-.59-1.43-.59-.52 0-1.04.2-1.43.59L10.3 9.45l-7.72 7.72c-.78.78-.78 2.05 0 2.83L4 21.41c.39.39.9.59 1.41.59.51 0 1.02-.2 1.41-.59l7.78-7.78 2.81-2.81c.8-.78.8-2.07 0-2.86zM5.41 20L4 18.59l7.72-7.72 1.47 1.35L5.41 20z\"/>\n",
              "  </svg>\n",
              "      </button>\n",
              "      \n",
              "  <style>\n",
              "    .colab-df-container {\n",
              "      display:flex;\n",
              "      flex-wrap:wrap;\n",
              "      gap: 12px;\n",
              "    }\n",
              "\n",
              "    .colab-df-convert {\n",
              "      background-color: #E8F0FE;\n",
              "      border: none;\n",
              "      border-radius: 50%;\n",
              "      cursor: pointer;\n",
              "      display: none;\n",
              "      fill: #1967D2;\n",
              "      height: 32px;\n",
              "      padding: 0 0 0 0;\n",
              "      width: 32px;\n",
              "    }\n",
              "\n",
              "    .colab-df-convert:hover {\n",
              "      background-color: #E2EBFA;\n",
              "      box-shadow: 0px 1px 2px rgba(60, 64, 67, 0.3), 0px 1px 3px 1px rgba(60, 64, 67, 0.15);\n",
              "      fill: #174EA6;\n",
              "    }\n",
              "\n",
              "    [theme=dark] .colab-df-convert {\n",
              "      background-color: #3B4455;\n",
              "      fill: #D2E3FC;\n",
              "    }\n",
              "\n",
              "    [theme=dark] .colab-df-convert:hover {\n",
              "      background-color: #434B5C;\n",
              "      box-shadow: 0px 1px 3px 1px rgba(0, 0, 0, 0.15);\n",
              "      filter: drop-shadow(0px 1px 2px rgba(0, 0, 0, 0.3));\n",
              "      fill: #FFFFFF;\n",
              "    }\n",
              "  </style>\n",
              "\n",
              "      <script>\n",
              "        const buttonEl =\n",
              "          document.querySelector('#df-5ff7b607-f987-4d3f-bb20-197f38fee51e button.colab-df-convert');\n",
              "        buttonEl.style.display =\n",
              "          google.colab.kernel.accessAllowed ? 'block' : 'none';\n",
              "\n",
              "        async function convertToInteractive(key) {\n",
              "          const element = document.querySelector('#df-5ff7b607-f987-4d3f-bb20-197f38fee51e');\n",
              "          const dataTable =\n",
              "            await google.colab.kernel.invokeFunction('convertToInteractive',\n",
              "                                                     [key], {});\n",
              "          if (!dataTable) return;\n",
              "\n",
              "          const docLinkHtml = 'Like what you see? Visit the ' +\n",
              "            '<a target=\"_blank\" href=https://colab.research.google.com/notebooks/data_table.ipynb>data table notebook</a>'\n",
              "            + ' to learn more about interactive tables.';\n",
              "          element.innerHTML = '';\n",
              "          dataTable['output_type'] = 'display_data';\n",
              "          await google.colab.output.renderOutput(dataTable, element);\n",
              "          const docLink = document.createElement('div');\n",
              "          docLink.innerHTML = docLinkHtml;\n",
              "          element.appendChild(docLink);\n",
              "        }\n",
              "      </script>\n",
              "    </div>\n",
              "  </div>\n",
              "  "
            ]
          },
          "metadata": {},
          "execution_count": 4
        }
      ]
    },
    {
      "cell_type": "code",
      "metadata": {
        "colab": {
          "base_uri": "https://localhost:8080/"
        },
        "id": "qhVCnTNcu-zD",
        "outputId": "e653de4d-4146-459e-9120-2703d785a6f3"
      },
      "source": [
        "#Percentage of time the US economy was in recession since 1982. This is an imbalanced dataset\n",
        "round(target['USREC'].sum()/target['USREC'].count()*100, 2)"
      ],
      "execution_count": null,
      "outputs": [
        {
          "output_type": "execute_result",
          "data": {
            "text/plain": [
              "9.63"
            ]
          },
          "metadata": {},
          "execution_count": 5
        }
      ]
    },
    {
      "cell_type": "code",
      "metadata": {
        "colab": {
          "base_uri": "https://localhost:8080/",
          "height": 238
        },
        "id": "5nlj2WalXQWW",
        "outputId": "6dc2e888-09ba-4685-9423-2f3ed384f4df"
      },
      "source": [
        "#Create features dataframe\n",
        "features = pd.DataFrame()\n",
        "features['curve'] = yield_curve['T10Y3MM'].diff() #Difference between the yields of the 3 month bill and the 10 year note\n",
        "features['unemployment'] = unemployment['UNRATE'].diff()\n",
        "features['industrial'] = industrial_capacity['TCU'].diff()\n",
        "features = features.dropna()\n",
        "features.head()"
      ],
      "execution_count": null,
      "outputs": [
        {
          "output_type": "execute_result",
          "data": {
            "text/plain": [
              "            curve  unemployment  industrial\n",
              "DATE                                       \n",
              "1982-02-01  -1.52           0.3      1.3705\n",
              "1982-03-01   0.40           0.1     -0.6713\n",
              "1982-04-01  -0.02           0.3     -0.8309\n",
              "1982-05-01   0.38           0.1     -0.6352\n",
              "1982-06-01   0.31           0.2     -0.2984"
            ],
            "text/html": [
              "\n",
              "  <div id=\"df-0fcd4c80-65cf-4c18-9cdf-3cdb95689fbf\">\n",
              "    <div class=\"colab-df-container\">\n",
              "      <div>\n",
              "<style scoped>\n",
              "    .dataframe tbody tr th:only-of-type {\n",
              "        vertical-align: middle;\n",
              "    }\n",
              "\n",
              "    .dataframe tbody tr th {\n",
              "        vertical-align: top;\n",
              "    }\n",
              "\n",
              "    .dataframe thead th {\n",
              "        text-align: right;\n",
              "    }\n",
              "</style>\n",
              "<table border=\"1\" class=\"dataframe\">\n",
              "  <thead>\n",
              "    <tr style=\"text-align: right;\">\n",
              "      <th></th>\n",
              "      <th>curve</th>\n",
              "      <th>unemployment</th>\n",
              "      <th>industrial</th>\n",
              "    </tr>\n",
              "    <tr>\n",
              "      <th>DATE</th>\n",
              "      <th></th>\n",
              "      <th></th>\n",
              "      <th></th>\n",
              "    </tr>\n",
              "  </thead>\n",
              "  <tbody>\n",
              "    <tr>\n",
              "      <th>1982-02-01</th>\n",
              "      <td>-1.52</td>\n",
              "      <td>0.3</td>\n",
              "      <td>1.3705</td>\n",
              "    </tr>\n",
              "    <tr>\n",
              "      <th>1982-03-01</th>\n",
              "      <td>0.40</td>\n",
              "      <td>0.1</td>\n",
              "      <td>-0.6713</td>\n",
              "    </tr>\n",
              "    <tr>\n",
              "      <th>1982-04-01</th>\n",
              "      <td>-0.02</td>\n",
              "      <td>0.3</td>\n",
              "      <td>-0.8309</td>\n",
              "    </tr>\n",
              "    <tr>\n",
              "      <th>1982-05-01</th>\n",
              "      <td>0.38</td>\n",
              "      <td>0.1</td>\n",
              "      <td>-0.6352</td>\n",
              "    </tr>\n",
              "    <tr>\n",
              "      <th>1982-06-01</th>\n",
              "      <td>0.31</td>\n",
              "      <td>0.2</td>\n",
              "      <td>-0.2984</td>\n",
              "    </tr>\n",
              "  </tbody>\n",
              "</table>\n",
              "</div>\n",
              "      <button class=\"colab-df-convert\" onclick=\"convertToInteractive('df-0fcd4c80-65cf-4c18-9cdf-3cdb95689fbf')\"\n",
              "              title=\"Convert this dataframe to an interactive table.\"\n",
              "              style=\"display:none;\">\n",
              "        \n",
              "  <svg xmlns=\"http://www.w3.org/2000/svg\" height=\"24px\"viewBox=\"0 0 24 24\"\n",
              "       width=\"24px\">\n",
              "    <path d=\"M0 0h24v24H0V0z\" fill=\"none\"/>\n",
              "    <path d=\"M18.56 5.44l.94 2.06.94-2.06 2.06-.94-2.06-.94-.94-2.06-.94 2.06-2.06.94zm-11 1L8.5 8.5l.94-2.06 2.06-.94-2.06-.94L8.5 2.5l-.94 2.06-2.06.94zm10 10l.94 2.06.94-2.06 2.06-.94-2.06-.94-.94-2.06-.94 2.06-2.06.94z\"/><path d=\"M17.41 7.96l-1.37-1.37c-.4-.4-.92-.59-1.43-.59-.52 0-1.04.2-1.43.59L10.3 9.45l-7.72 7.72c-.78.78-.78 2.05 0 2.83L4 21.41c.39.39.9.59 1.41.59.51 0 1.02-.2 1.41-.59l7.78-7.78 2.81-2.81c.8-.78.8-2.07 0-2.86zM5.41 20L4 18.59l7.72-7.72 1.47 1.35L5.41 20z\"/>\n",
              "  </svg>\n",
              "      </button>\n",
              "      \n",
              "  <style>\n",
              "    .colab-df-container {\n",
              "      display:flex;\n",
              "      flex-wrap:wrap;\n",
              "      gap: 12px;\n",
              "    }\n",
              "\n",
              "    .colab-df-convert {\n",
              "      background-color: #E8F0FE;\n",
              "      border: none;\n",
              "      border-radius: 50%;\n",
              "      cursor: pointer;\n",
              "      display: none;\n",
              "      fill: #1967D2;\n",
              "      height: 32px;\n",
              "      padding: 0 0 0 0;\n",
              "      width: 32px;\n",
              "    }\n",
              "\n",
              "    .colab-df-convert:hover {\n",
              "      background-color: #E2EBFA;\n",
              "      box-shadow: 0px 1px 2px rgba(60, 64, 67, 0.3), 0px 1px 3px 1px rgba(60, 64, 67, 0.15);\n",
              "      fill: #174EA6;\n",
              "    }\n",
              "\n",
              "    [theme=dark] .colab-df-convert {\n",
              "      background-color: #3B4455;\n",
              "      fill: #D2E3FC;\n",
              "    }\n",
              "\n",
              "    [theme=dark] .colab-df-convert:hover {\n",
              "      background-color: #434B5C;\n",
              "      box-shadow: 0px 1px 3px 1px rgba(0, 0, 0, 0.15);\n",
              "      filter: drop-shadow(0px 1px 2px rgba(0, 0, 0, 0.3));\n",
              "      fill: #FFFFFF;\n",
              "    }\n",
              "  </style>\n",
              "\n",
              "      <script>\n",
              "        const buttonEl =\n",
              "          document.querySelector('#df-0fcd4c80-65cf-4c18-9cdf-3cdb95689fbf button.colab-df-convert');\n",
              "        buttonEl.style.display =\n",
              "          google.colab.kernel.accessAllowed ? 'block' : 'none';\n",
              "\n",
              "        async function convertToInteractive(key) {\n",
              "          const element = document.querySelector('#df-0fcd4c80-65cf-4c18-9cdf-3cdb95689fbf');\n",
              "          const dataTable =\n",
              "            await google.colab.kernel.invokeFunction('convertToInteractive',\n",
              "                                                     [key], {});\n",
              "          if (!dataTable) return;\n",
              "\n",
              "          const docLinkHtml = 'Like what you see? Visit the ' +\n",
              "            '<a target=\"_blank\" href=https://colab.research.google.com/notebooks/data_table.ipynb>data table notebook</a>'\n",
              "            + ' to learn more about interactive tables.';\n",
              "          element.innerHTML = '';\n",
              "          dataTable['output_type'] = 'display_data';\n",
              "          await google.colab.output.renderOutput(dataTable, element);\n",
              "          const docLink = document.createElement('div');\n",
              "          docLink.innerHTML = docLinkHtml;\n",
              "          element.appendChild(docLink);\n",
              "        }\n",
              "      </script>\n",
              "    </div>\n",
              "  </div>\n",
              "  "
            ]
          },
          "metadata": {},
          "execution_count": 6
        }
      ]
    },
    {
      "cell_type": "code",
      "metadata": {
        "id": "TRM5ojMZXr4l"
      },
      "source": [
        "#Standardize data\n",
        "from sklearn.preprocessing import StandardScaler\n",
        "from sklearn.model_selection import train_test_split\n",
        "\n",
        "target = np.ravel(target) #Need to covert column vector into a 1-d Numpy array\n",
        "\n",
        "scaler = StandardScaler() #Scales input data so that columns/features have a mean of 0 and a standard deviation of 1\n",
        "features_scaled = scaler.fit_transform(features) \n",
        "\n",
        "#Split dataset into train and test subsets. Test size is 25% of the total dataset and the data are not shuffled to preserve temporal structure of timeseries\n",
        "\n",
        "features_train, features_test, target_train, target_test = train_test_split(features_scaled, target, test_size = 0.25, shuffle=False, random_state=101)"
      ],
      "execution_count": null,
      "outputs": []
    },
    {
      "cell_type": "markdown",
      "metadata": {
        "id": "uCoBKxhrTuyk"
      },
      "source": [
        "# Build Network"
      ]
    },
    {
      "cell_type": "code",
      "metadata": {
        "id": "uL5izwn6MXQq"
      },
      "source": [
        "#Stacking layers to create a network. A dense layer is a fully connected layer\n",
        "fcn = models.Sequential() \n",
        "\n",
        "#First hidden layer needs to specify the shape of the feature data it will receive from the input layer\n",
        "fcn.add(layers.Dense(units=32, activation='relu', input_shape=(3,)))\n",
        "\n",
        "#Hidden layer which has 32 neurons and uses the Relu activation function to learn nonlinearity. Does not need an input_shape parameter\n",
        "fcn.add(layers.Dense(units=32, activation='relu'))\n",
        "\n",
        "# Output layer which uses the Sigmoid function for binary classification\n",
        "fcn.add(layers.Dense(units=1, activation='sigmoid'))\n",
        "\n",
        "#Network will minimize the binary cross entropy loss function using the Adam optimizer and will evaluate success using accuracy metric\n",
        "fcn.compile(loss='binary_crossentropy', optimizer='adam', metrics='accuracy')"
      ],
      "execution_count": null,
      "outputs": []
    },
    {
      "cell_type": "code",
      "metadata": {
        "colab": {
          "base_uri": "https://localhost:8080/"
        },
        "id": "svf1Yxx2mjz7",
        "outputId": "b85f415f-a730-4ff0-c6ea-02ce242654da"
      },
      "source": [
        "fcn.summary()"
      ],
      "execution_count": null,
      "outputs": [
        {
          "output_type": "stream",
          "name": "stdout",
          "text": [
            "Model: \"sequential\"\n",
            "_________________________________________________________________\n",
            " Layer (type)                Output Shape              Param #   \n",
            "=================================================================\n",
            " dense (Dense)               (None, 32)                128       \n",
            "                                                                 \n",
            " dense_1 (Dense)             (None, 32)                1056      \n",
            "                                                                 \n",
            " dense_2 (Dense)             (None, 1)                 33        \n",
            "                                                                 \n",
            "=================================================================\n",
            "Total params: 1,217\n",
            "Trainable params: 1,217\n",
            "Non-trainable params: 0\n",
            "_________________________________________________________________\n"
          ]
        }
      ]
    },
    {
      "cell_type": "markdown",
      "metadata": {
        "id": "PZvdLZIpT7Gf"
      },
      "source": [
        "# Train Network"
      ]
    },
    {
      "cell_type": "code",
      "metadata": {
        "id": "OIMAHx7nn_dn",
        "colab": {
          "base_uri": "https://localhost:8080/"
        },
        "outputId": "7116f0b6-eff7-41c6-f9ae-2236e4d86e95"
      },
      "source": [
        "fcn.fit(features_train, target_train, epochs=30)"
      ],
      "execution_count": null,
      "outputs": [
        {
          "output_type": "stream",
          "name": "stdout",
          "text": [
            "Epoch 1/30\n",
            "11/11 [==============================] - 2s 5ms/step - loss: 0.8008 - accuracy: 0.1491\n",
            "Epoch 2/30\n",
            "11/11 [==============================] - 0s 4ms/step - loss: 0.6997 - accuracy: 0.5175\n",
            "Epoch 3/30\n",
            "11/11 [==============================] - 0s 4ms/step - loss: 0.6269 - accuracy: 0.8421\n",
            "Epoch 4/30\n",
            "11/11 [==============================] - 0s 14ms/step - loss: 0.5690 - accuracy: 0.8889\n",
            "Epoch 5/30\n",
            "11/11 [==============================] - 0s 5ms/step - loss: 0.5219 - accuracy: 0.8743\n",
            "Epoch 6/30\n",
            "11/11 [==============================] - 0s 5ms/step - loss: 0.4789 - accuracy: 0.8713\n",
            "Epoch 7/30\n",
            "11/11 [==============================] - 0s 7ms/step - loss: 0.4416 - accuracy: 0.8713\n",
            "Epoch 8/30\n",
            "11/11 [==============================] - 0s 4ms/step - loss: 0.4078 - accuracy: 0.8743\n",
            "Epoch 9/30\n",
            "11/11 [==============================] - 0s 6ms/step - loss: 0.3759 - accuracy: 0.8772\n",
            "Epoch 10/30\n",
            "11/11 [==============================] - 0s 4ms/step - loss: 0.3493 - accuracy: 0.8860\n",
            "Epoch 11/30\n",
            "11/11 [==============================] - 0s 4ms/step - loss: 0.3264 - accuracy: 0.8947\n",
            "Epoch 12/30\n",
            "11/11 [==============================] - 0s 8ms/step - loss: 0.3085 - accuracy: 0.9006\n",
            "Epoch 13/30\n",
            "11/11 [==============================] - 0s 6ms/step - loss: 0.2915 - accuracy: 0.9094\n",
            "Epoch 14/30\n",
            "11/11 [==============================] - 0s 5ms/step - loss: 0.2788 - accuracy: 0.9211\n",
            "Epoch 15/30\n",
            "11/11 [==============================] - 0s 5ms/step - loss: 0.2670 - accuracy: 0.9211\n",
            "Epoch 16/30\n",
            "11/11 [==============================] - 0s 4ms/step - loss: 0.2574 - accuracy: 0.9240\n",
            "Epoch 17/30\n",
            "11/11 [==============================] - 0s 5ms/step - loss: 0.2483 - accuracy: 0.9240\n",
            "Epoch 18/30\n",
            "11/11 [==============================] - 0s 5ms/step - loss: 0.2406 - accuracy: 0.9211\n",
            "Epoch 19/30\n",
            "11/11 [==============================] - 0s 5ms/step - loss: 0.2333 - accuracy: 0.9152\n",
            "Epoch 20/30\n",
            "11/11 [==============================] - 0s 4ms/step - loss: 0.2285 - accuracy: 0.9211\n",
            "Epoch 21/30\n",
            "11/11 [==============================] - 0s 5ms/step - loss: 0.2214 - accuracy: 0.9211\n",
            "Epoch 22/30\n",
            "11/11 [==============================] - 0s 5ms/step - loss: 0.2165 - accuracy: 0.9269\n",
            "Epoch 23/30\n",
            "11/11 [==============================] - 0s 5ms/step - loss: 0.2110 - accuracy: 0.9240\n",
            "Epoch 24/30\n",
            "11/11 [==============================] - 0s 15ms/step - loss: 0.2066 - accuracy: 0.9240\n",
            "Epoch 25/30\n",
            "11/11 [==============================] - 0s 7ms/step - loss: 0.2030 - accuracy: 0.9240\n",
            "Epoch 26/30\n",
            "11/11 [==============================] - 0s 4ms/step - loss: 0.1989 - accuracy: 0.9240\n",
            "Epoch 27/30\n",
            "11/11 [==============================] - 0s 5ms/step - loss: 0.1965 - accuracy: 0.9298\n",
            "Epoch 28/30\n",
            "11/11 [==============================] - 0s 4ms/step - loss: 0.1927 - accuracy: 0.9240\n",
            "Epoch 29/30\n",
            "11/11 [==============================] - 0s 4ms/step - loss: 0.1897 - accuracy: 0.9240\n",
            "Epoch 30/30\n",
            "11/11 [==============================] - 0s 7ms/step - loss: 0.1873 - accuracy: 0.9269\n"
          ]
        },
        {
          "output_type": "execute_result",
          "data": {
            "text/plain": [
              "<keras.callbacks.History at 0x7f90322f63a0>"
            ]
          },
          "metadata": {},
          "execution_count": 10
        }
      ]
    },
    {
      "cell_type": "markdown",
      "metadata": {
        "id": "yYd5PtN-uq2k"
      },
      "source": [
        "# Evaluate Network"
      ]
    },
    {
      "cell_type": "code",
      "metadata": {
        "colab": {
          "base_uri": "https://localhost:8080/"
        },
        "id": "kyHT9aeDFco2",
        "outputId": "1bfa05a1-9d1d-4f42-8528-3084694662f2"
      },
      "source": [
        "fcn.evaluate(features_test, target_test)"
      ],
      "execution_count": null,
      "outputs": [
        {
          "output_type": "stream",
          "name": "stdout",
          "text": [
            "4/4 [==============================] - 0s 6ms/step - loss: 0.0684 - accuracy: 0.9913\n"
          ]
        },
        {
          "output_type": "execute_result",
          "data": {
            "text/plain": [
              "[0.0684034526348114, 0.991304337978363]"
            ]
          },
          "metadata": {},
          "execution_count": 11
        }
      ]
    },
    {
      "cell_type": "code",
      "metadata": {
        "colab": {
          "base_uri": "https://localhost:8080/"
        },
        "id": "RISfFaniag5e",
        "outputId": "bab5b44c-5d1e-4499-ee6f-ea0193cd8e2b"
      },
      "source": [
        "#Use out-of-sample March data to predict recession\n",
        "march = [[0.61, 0.9, -4.2351]]\n",
        "fcn.predict(march).round(2)"
      ],
      "execution_count": null,
      "outputs": [
        {
          "output_type": "stream",
          "name": "stdout",
          "text": [
            "1/1 [==============================] - 0s 340ms/step\n"
          ]
        },
        {
          "output_type": "execute_result",
          "data": {
            "text/plain": [
              "array([[0.76]], dtype=float32)"
            ]
          },
          "metadata": {},
          "execution_count": 12
        }
      ]
    },
    {
      "cell_type": "markdown",
      "metadata": {
        "id": "3jvuqenpxpFe"
      },
      "source": [
        "# Build Network for Regression"
      ]
    },
    {
      "cell_type": "code",
      "metadata": {
        "id": "RN8JhUASxlsl"
      },
      "source": [
        "gdp = pdr.DataReader('A191RL1Q225SBEA', 'fred', start, end) #Annualized percentage change in real GDP from previous quarter"
      ],
      "execution_count": null,
      "outputs": []
    },
    {
      "cell_type": "code",
      "metadata": {
        "colab": {
          "base_uri": "https://localhost:8080/",
          "height": 238
        },
        "id": "12_qSfk8x-zA",
        "outputId": "77e3ce8c-f9af-4ac0-a05e-f97a2ffc18df"
      },
      "source": [
        "#Create regression target dataframe\n",
        "targetvalue = gdp\n",
        "targetvalue = targetvalue[1:] #Get rid of the first row in order to align with the features matrix\n",
        "targetvalue.head()      "
      ],
      "execution_count": null,
      "outputs": [
        {
          "output_type": "execute_result",
          "data": {
            "text/plain": [
              "            A191RL1Q225SBEA\n",
              "DATE                       \n",
              "1982-04-01              1.8\n",
              "1982-07-01             -1.5\n",
              "1982-10-01              0.2\n",
              "1983-01-01              5.4\n",
              "1983-04-01              9.4"
            ],
            "text/html": [
              "\n",
              "  <div id=\"df-953e5262-9bff-4afb-8c66-f3f85f48fe88\">\n",
              "    <div class=\"colab-df-container\">\n",
              "      <div>\n",
              "<style scoped>\n",
              "    .dataframe tbody tr th:only-of-type {\n",
              "        vertical-align: middle;\n",
              "    }\n",
              "\n",
              "    .dataframe tbody tr th {\n",
              "        vertical-align: top;\n",
              "    }\n",
              "\n",
              "    .dataframe thead th {\n",
              "        text-align: right;\n",
              "    }\n",
              "</style>\n",
              "<table border=\"1\" class=\"dataframe\">\n",
              "  <thead>\n",
              "    <tr style=\"text-align: right;\">\n",
              "      <th></th>\n",
              "      <th>A191RL1Q225SBEA</th>\n",
              "    </tr>\n",
              "    <tr>\n",
              "      <th>DATE</th>\n",
              "      <th></th>\n",
              "    </tr>\n",
              "  </thead>\n",
              "  <tbody>\n",
              "    <tr>\n",
              "      <th>1982-04-01</th>\n",
              "      <td>1.8</td>\n",
              "    </tr>\n",
              "    <tr>\n",
              "      <th>1982-07-01</th>\n",
              "      <td>-1.5</td>\n",
              "    </tr>\n",
              "    <tr>\n",
              "      <th>1982-10-01</th>\n",
              "      <td>0.2</td>\n",
              "    </tr>\n",
              "    <tr>\n",
              "      <th>1983-01-01</th>\n",
              "      <td>5.4</td>\n",
              "    </tr>\n",
              "    <tr>\n",
              "      <th>1983-04-01</th>\n",
              "      <td>9.4</td>\n",
              "    </tr>\n",
              "  </tbody>\n",
              "</table>\n",
              "</div>\n",
              "      <button class=\"colab-df-convert\" onclick=\"convertToInteractive('df-953e5262-9bff-4afb-8c66-f3f85f48fe88')\"\n",
              "              title=\"Convert this dataframe to an interactive table.\"\n",
              "              style=\"display:none;\">\n",
              "        \n",
              "  <svg xmlns=\"http://www.w3.org/2000/svg\" height=\"24px\"viewBox=\"0 0 24 24\"\n",
              "       width=\"24px\">\n",
              "    <path d=\"M0 0h24v24H0V0z\" fill=\"none\"/>\n",
              "    <path d=\"M18.56 5.44l.94 2.06.94-2.06 2.06-.94-2.06-.94-.94-2.06-.94 2.06-2.06.94zm-11 1L8.5 8.5l.94-2.06 2.06-.94-2.06-.94L8.5 2.5l-.94 2.06-2.06.94zm10 10l.94 2.06.94-2.06 2.06-.94-2.06-.94-.94-2.06-.94 2.06-2.06.94z\"/><path d=\"M17.41 7.96l-1.37-1.37c-.4-.4-.92-.59-1.43-.59-.52 0-1.04.2-1.43.59L10.3 9.45l-7.72 7.72c-.78.78-.78 2.05 0 2.83L4 21.41c.39.39.9.59 1.41.59.51 0 1.02-.2 1.41-.59l7.78-7.78 2.81-2.81c.8-.78.8-2.07 0-2.86zM5.41 20L4 18.59l7.72-7.72 1.47 1.35L5.41 20z\"/>\n",
              "  </svg>\n",
              "      </button>\n",
              "      \n",
              "  <style>\n",
              "    .colab-df-container {\n",
              "      display:flex;\n",
              "      flex-wrap:wrap;\n",
              "      gap: 12px;\n",
              "    }\n",
              "\n",
              "    .colab-df-convert {\n",
              "      background-color: #E8F0FE;\n",
              "      border: none;\n",
              "      border-radius: 50%;\n",
              "      cursor: pointer;\n",
              "      display: none;\n",
              "      fill: #1967D2;\n",
              "      height: 32px;\n",
              "      padding: 0 0 0 0;\n",
              "      width: 32px;\n",
              "    }\n",
              "\n",
              "    .colab-df-convert:hover {\n",
              "      background-color: #E2EBFA;\n",
              "      box-shadow: 0px 1px 2px rgba(60, 64, 67, 0.3), 0px 1px 3px 1px rgba(60, 64, 67, 0.15);\n",
              "      fill: #174EA6;\n",
              "    }\n",
              "\n",
              "    [theme=dark] .colab-df-convert {\n",
              "      background-color: #3B4455;\n",
              "      fill: #D2E3FC;\n",
              "    }\n",
              "\n",
              "    [theme=dark] .colab-df-convert:hover {\n",
              "      background-color: #434B5C;\n",
              "      box-shadow: 0px 1px 3px 1px rgba(0, 0, 0, 0.15);\n",
              "      filter: drop-shadow(0px 1px 2px rgba(0, 0, 0, 0.3));\n",
              "      fill: #FFFFFF;\n",
              "    }\n",
              "  </style>\n",
              "\n",
              "      <script>\n",
              "        const buttonEl =\n",
              "          document.querySelector('#df-953e5262-9bff-4afb-8c66-f3f85f48fe88 button.colab-df-convert');\n",
              "        buttonEl.style.display =\n",
              "          google.colab.kernel.accessAllowed ? 'block' : 'none';\n",
              "\n",
              "        async function convertToInteractive(key) {\n",
              "          const element = document.querySelector('#df-953e5262-9bff-4afb-8c66-f3f85f48fe88');\n",
              "          const dataTable =\n",
              "            await google.colab.kernel.invokeFunction('convertToInteractive',\n",
              "                                                     [key], {});\n",
              "          if (!dataTable) return;\n",
              "\n",
              "          const docLinkHtml = 'Like what you see? Visit the ' +\n",
              "            '<a target=\"_blank\" href=https://colab.research.google.com/notebooks/data_table.ipynb>data table notebook</a>'\n",
              "            + ' to learn more about interactive tables.';\n",
              "          element.innerHTML = '';\n",
              "          dataTable['output_type'] = 'display_data';\n",
              "          await google.colab.output.renderOutput(dataTable, element);\n",
              "          const docLink = document.createElement('div');\n",
              "          docLink.innerHTML = docLinkHtml;\n",
              "          element.appendChild(docLink);\n",
              "        }\n",
              "      </script>\n",
              "    </div>\n",
              "  </div>\n",
              "  "
            ]
          },
          "metadata": {},
          "execution_count": 14
        }
      ]
    },
    {
      "cell_type": "code",
      "metadata": {
        "colab": {
          "base_uri": "https://localhost:8080/",
          "height": 238
        },
        "id": "gBLe22oNyaA6",
        "outputId": "4aef6a39-48b1-40cf-969d-313007478aa3"
      },
      "source": [
        "#Downsample features dataframe and convert it into a quarterly frequency\n",
        "qfeatures = features.resample('1q', label='right').last()\n",
        "#Removes the last row\n",
        "qmarch = qfeatures[-1:]\n",
        "#Removes the last row to align with features dataframe\n",
        "qfeatures = qfeatures[:-1]\n",
        "qfeatures.tail()"
      ],
      "execution_count": null,
      "outputs": [
        {
          "output_type": "execute_result",
          "data": {
            "text/plain": [
              "            curve  unemployment  industrial\n",
              "DATE                                       \n",
              "2018-12-31  -0.33           0.1     -0.1275\n",
              "2019-03-31  -0.12           0.0     -0.0052\n",
              "2019-06-30  -0.15          -0.1     -0.0685\n",
              "2019-09-30   0.13          -0.2     -0.3353\n",
              "2019-12-31   0.05           0.0     -0.3139"
            ],
            "text/html": [
              "\n",
              "  <div id=\"df-dd28fce4-b6a1-4c20-b9bb-1b75f8b15269\">\n",
              "    <div class=\"colab-df-container\">\n",
              "      <div>\n",
              "<style scoped>\n",
              "    .dataframe tbody tr th:only-of-type {\n",
              "        vertical-align: middle;\n",
              "    }\n",
              "\n",
              "    .dataframe tbody tr th {\n",
              "        vertical-align: top;\n",
              "    }\n",
              "\n",
              "    .dataframe thead th {\n",
              "        text-align: right;\n",
              "    }\n",
              "</style>\n",
              "<table border=\"1\" class=\"dataframe\">\n",
              "  <thead>\n",
              "    <tr style=\"text-align: right;\">\n",
              "      <th></th>\n",
              "      <th>curve</th>\n",
              "      <th>unemployment</th>\n",
              "      <th>industrial</th>\n",
              "    </tr>\n",
              "    <tr>\n",
              "      <th>DATE</th>\n",
              "      <th></th>\n",
              "      <th></th>\n",
              "      <th></th>\n",
              "    </tr>\n",
              "  </thead>\n",
              "  <tbody>\n",
              "    <tr>\n",
              "      <th>2018-12-31</th>\n",
              "      <td>-0.33</td>\n",
              "      <td>0.1</td>\n",
              "      <td>-0.1275</td>\n",
              "    </tr>\n",
              "    <tr>\n",
              "      <th>2019-03-31</th>\n",
              "      <td>-0.12</td>\n",
              "      <td>0.0</td>\n",
              "      <td>-0.0052</td>\n",
              "    </tr>\n",
              "    <tr>\n",
              "      <th>2019-06-30</th>\n",
              "      <td>-0.15</td>\n",
              "      <td>-0.1</td>\n",
              "      <td>-0.0685</td>\n",
              "    </tr>\n",
              "    <tr>\n",
              "      <th>2019-09-30</th>\n",
              "      <td>0.13</td>\n",
              "      <td>-0.2</td>\n",
              "      <td>-0.3353</td>\n",
              "    </tr>\n",
              "    <tr>\n",
              "      <th>2019-12-31</th>\n",
              "      <td>0.05</td>\n",
              "      <td>0.0</td>\n",
              "      <td>-0.3139</td>\n",
              "    </tr>\n",
              "  </tbody>\n",
              "</table>\n",
              "</div>\n",
              "      <button class=\"colab-df-convert\" onclick=\"convertToInteractive('df-dd28fce4-b6a1-4c20-b9bb-1b75f8b15269')\"\n",
              "              title=\"Convert this dataframe to an interactive table.\"\n",
              "              style=\"display:none;\">\n",
              "        \n",
              "  <svg xmlns=\"http://www.w3.org/2000/svg\" height=\"24px\"viewBox=\"0 0 24 24\"\n",
              "       width=\"24px\">\n",
              "    <path d=\"M0 0h24v24H0V0z\" fill=\"none\"/>\n",
              "    <path d=\"M18.56 5.44l.94 2.06.94-2.06 2.06-.94-2.06-.94-.94-2.06-.94 2.06-2.06.94zm-11 1L8.5 8.5l.94-2.06 2.06-.94-2.06-.94L8.5 2.5l-.94 2.06-2.06.94zm10 10l.94 2.06.94-2.06 2.06-.94-2.06-.94-.94-2.06-.94 2.06-2.06.94z\"/><path d=\"M17.41 7.96l-1.37-1.37c-.4-.4-.92-.59-1.43-.59-.52 0-1.04.2-1.43.59L10.3 9.45l-7.72 7.72c-.78.78-.78 2.05 0 2.83L4 21.41c.39.39.9.59 1.41.59.51 0 1.02-.2 1.41-.59l7.78-7.78 2.81-2.81c.8-.78.8-2.07 0-2.86zM5.41 20L4 18.59l7.72-7.72 1.47 1.35L5.41 20z\"/>\n",
              "  </svg>\n",
              "      </button>\n",
              "      \n",
              "  <style>\n",
              "    .colab-df-container {\n",
              "      display:flex;\n",
              "      flex-wrap:wrap;\n",
              "      gap: 12px;\n",
              "    }\n",
              "\n",
              "    .colab-df-convert {\n",
              "      background-color: #E8F0FE;\n",
              "      border: none;\n",
              "      border-radius: 50%;\n",
              "      cursor: pointer;\n",
              "      display: none;\n",
              "      fill: #1967D2;\n",
              "      height: 32px;\n",
              "      padding: 0 0 0 0;\n",
              "      width: 32px;\n",
              "    }\n",
              "\n",
              "    .colab-df-convert:hover {\n",
              "      background-color: #E2EBFA;\n",
              "      box-shadow: 0px 1px 2px rgba(60, 64, 67, 0.3), 0px 1px 3px 1px rgba(60, 64, 67, 0.15);\n",
              "      fill: #174EA6;\n",
              "    }\n",
              "\n",
              "    [theme=dark] .colab-df-convert {\n",
              "      background-color: #3B4455;\n",
              "      fill: #D2E3FC;\n",
              "    }\n",
              "\n",
              "    [theme=dark] .colab-df-convert:hover {\n",
              "      background-color: #434B5C;\n",
              "      box-shadow: 0px 1px 3px 1px rgba(0, 0, 0, 0.15);\n",
              "      filter: drop-shadow(0px 1px 2px rgba(0, 0, 0, 0.3));\n",
              "      fill: #FFFFFF;\n",
              "    }\n",
              "  </style>\n",
              "\n",
              "      <script>\n",
              "        const buttonEl =\n",
              "          document.querySelector('#df-dd28fce4-b6a1-4c20-b9bb-1b75f8b15269 button.colab-df-convert');\n",
              "        buttonEl.style.display =\n",
              "          google.colab.kernel.accessAllowed ? 'block' : 'none';\n",
              "\n",
              "        async function convertToInteractive(key) {\n",
              "          const element = document.querySelector('#df-dd28fce4-b6a1-4c20-b9bb-1b75f8b15269');\n",
              "          const dataTable =\n",
              "            await google.colab.kernel.invokeFunction('convertToInteractive',\n",
              "                                                     [key], {});\n",
              "          if (!dataTable) return;\n",
              "\n",
              "          const docLinkHtml = 'Like what you see? Visit the ' +\n",
              "            '<a target=\"_blank\" href=https://colab.research.google.com/notebooks/data_table.ipynb>data table notebook</a>'\n",
              "            + ' to learn more about interactive tables.';\n",
              "          element.innerHTML = '';\n",
              "          dataTable['output_type'] = 'display_data';\n",
              "          await google.colab.output.renderOutput(dataTable, element);\n",
              "          const docLink = document.createElement('div');\n",
              "          docLink.innerHTML = docLinkHtml;\n",
              "          element.appendChild(docLink);\n",
              "        }\n",
              "      </script>\n",
              "    </div>\n",
              "  </div>\n",
              "  "
            ]
          },
          "metadata": {},
          "execution_count": 15
        }
      ]
    },
    {
      "cell_type": "code",
      "metadata": {
        "id": "8cCtRqfxzEIp"
      },
      "source": [
        "qfeatures_scaled = scaler.fit_transform(qfeatures) #Every feature now has a mean of 0 and a standard deviation of 1\n",
        "\n",
        "#Split dataset into train and test subsets. Test size is 25% of the total dataset and the data are not shuffled to preserve temporal structure of timeseries\n",
        "\n",
        "qfeatures_train, qfeatures_test, targetvalue_train, targetvalue_test = train_test_split(qfeatures_scaled, targetvalue, test_size = 0.25, shuffle=False, random_state=0)"
      ],
      "execution_count": null,
      "outputs": []
    },
    {
      "cell_type": "code",
      "metadata": {
        "id": "RSxd058wznUt"
      },
      "source": [
        "regression_fcn = models.Sequential() #Stacking layers to create a network. A dense layer is a fully connected layer\n",
        "\n",
        "regression_fcn.add(layers.Dense(units=32, activation='relu', input_shape=(3,))) #First hidden layer needs to specify the shape of the feature data it will receive from the input layer\n",
        "\n",
        "regression_fcn.add(layers.Dense(units=32, activation='relu')) #Hidden layer which has 32 neurons and uses the Relu activation function to learn nonlinearity. Does not need an input_shape parameter\n",
        "\n",
        "regression_fcn.add(layers.Dense(units=1))# Output layer which does not use the Sigmoid function for binary classification\n",
        "\n",
        "regression_fcn.compile(loss='mse', optimizer='adam', metrics='mae')#Network will minimize the mean square error loss function using the Adam optimizer and will evaluate success using mae metric"
      ],
      "execution_count": null,
      "outputs": []
    },
    {
      "cell_type": "code",
      "metadata": {
        "colab": {
          "base_uri": "https://localhost:8080/"
        },
        "id": "WVnfVmjMJsMB",
        "outputId": "6e003c6e-edbb-4793-c23e-594366eda3ea"
      },
      "source": [
        "regression_fcn.summary()"
      ],
      "execution_count": null,
      "outputs": [
        {
          "output_type": "stream",
          "name": "stdout",
          "text": [
            "Model: \"sequential_1\"\n",
            "_________________________________________________________________\n",
            " Layer (type)                Output Shape              Param #   \n",
            "=================================================================\n",
            " dense_3 (Dense)             (None, 32)                128       \n",
            "                                                                 \n",
            " dense_4 (Dense)             (None, 32)                1056      \n",
            "                                                                 \n",
            " dense_5 (Dense)             (None, 1)                 33        \n",
            "                                                                 \n",
            "=================================================================\n",
            "Total params: 1,217\n",
            "Trainable params: 1,217\n",
            "Non-trainable params: 0\n",
            "_________________________________________________________________\n"
          ]
        }
      ]
    },
    {
      "cell_type": "code",
      "metadata": {
        "colab": {
          "base_uri": "https://localhost:8080/"
        },
        "id": "Zx-szUz10lb5",
        "outputId": "a6bf6685-7a65-4ab0-ed25-06a512e8431d"
      },
      "source": [
        "regression_fcn.fit(qfeatures_train, targetvalue_train, epochs=30)"
      ],
      "execution_count": null,
      "outputs": [
        {
          "output_type": "stream",
          "name": "stdout",
          "text": [
            "Epoch 1/30\n",
            "4/4 [==============================] - 3s 7ms/step - loss: 16.2587 - mae: 3.4999\n",
            "Epoch 2/30\n",
            "4/4 [==============================] - 0s 7ms/step - loss: 15.4483 - mae: 3.3883\n",
            "Epoch 3/30\n",
            "4/4 [==============================] - 0s 7ms/step - loss: 14.6746 - mae: 3.2749\n",
            "Epoch 4/30\n",
            "4/4 [==============================] - 0s 6ms/step - loss: 13.9787 - mae: 3.1751\n",
            "Epoch 5/30\n",
            "4/4 [==============================] - 0s 6ms/step - loss: 13.4258 - mae: 3.0836\n",
            "Epoch 6/30\n",
            "4/4 [==============================] - 0s 7ms/step - loss: 12.8070 - mae: 2.9854\n",
            "Epoch 7/30\n",
            "4/4 [==============================] - 0s 6ms/step - loss: 12.3151 - mae: 2.9062\n",
            "Epoch 8/30\n",
            "4/4 [==============================] - 0s 6ms/step - loss: 11.8095 - mae: 2.8219\n",
            "Epoch 9/30\n",
            "4/4 [==============================] - 0s 6ms/step - loss: 11.3191 - mae: 2.7418\n",
            "Epoch 10/30\n",
            "4/4 [==============================] - 0s 5ms/step - loss: 10.8715 - mae: 2.6691\n",
            "Epoch 11/30\n",
            "4/4 [==============================] - 0s 6ms/step - loss: 10.4799 - mae: 2.6077\n",
            "Epoch 12/30\n",
            "4/4 [==============================] - 0s 8ms/step - loss: 10.0626 - mae: 2.5393\n",
            "Epoch 13/30\n",
            "4/4 [==============================] - 0s 5ms/step - loss: 9.6681 - mae: 2.4760\n",
            "Epoch 14/30\n",
            "4/4 [==============================] - 0s 6ms/step - loss: 9.3152 - mae: 2.4116\n",
            "Epoch 15/30\n",
            "4/4 [==============================] - 0s 6ms/step - loss: 9.0332 - mae: 2.3611\n",
            "Epoch 16/30\n",
            "4/4 [==============================] - 0s 8ms/step - loss: 8.7140 - mae: 2.3094\n",
            "Epoch 17/30\n",
            "4/4 [==============================] - 0s 9ms/step - loss: 8.4971 - mae: 2.2810\n",
            "Epoch 18/30\n",
            "4/4 [==============================] - 0s 9ms/step - loss: 8.2622 - mae: 2.2504\n",
            "Epoch 19/30\n",
            "4/4 [==============================] - 0s 9ms/step - loss: 8.0897 - mae: 2.2224\n",
            "Epoch 20/30\n",
            "4/4 [==============================] - 0s 13ms/step - loss: 7.9771 - mae: 2.2079\n",
            "Epoch 21/30\n",
            "4/4 [==============================] - 0s 7ms/step - loss: 7.8544 - mae: 2.1925\n",
            "Epoch 22/30\n",
            "4/4 [==============================] - 0s 6ms/step - loss: 7.7812 - mae: 2.1809\n",
            "Epoch 23/30\n",
            "4/4 [==============================] - 0s 8ms/step - loss: 7.6989 - mae: 2.1665\n",
            "Epoch 24/30\n",
            "4/4 [==============================] - 0s 7ms/step - loss: 7.6448 - mae: 2.1577\n",
            "Epoch 25/30\n",
            "4/4 [==============================] - 0s 7ms/step - loss: 7.5820 - mae: 2.1498\n",
            "Epoch 26/30\n",
            "4/4 [==============================] - 0s 6ms/step - loss: 7.5397 - mae: 2.1444\n",
            "Epoch 27/30\n",
            "4/4 [==============================] - 0s 6ms/step - loss: 7.4948 - mae: 2.1386\n",
            "Epoch 28/30\n",
            "4/4 [==============================] - 0s 6ms/step - loss: 7.4353 - mae: 2.1312\n",
            "Epoch 29/30\n",
            "4/4 [==============================] - 0s 15ms/step - loss: 7.4018 - mae: 2.1263\n",
            "Epoch 30/30\n",
            "4/4 [==============================] - 0s 7ms/step - loss: 7.3560 - mae: 2.1197\n"
          ]
        },
        {
          "output_type": "execute_result",
          "data": {
            "text/plain": [
              "<keras.callbacks.History at 0x7f9031869a30>"
            ]
          },
          "metadata": {},
          "execution_count": 19
        }
      ]
    },
    {
      "cell_type": "code",
      "metadata": {
        "colab": {
          "base_uri": "https://localhost:8080/"
        },
        "id": "dtVTWnVp1HDe",
        "outputId": "97823608-4ba2-4851-fd03-004a9c2d7596"
      },
      "source": [
        "regression_fcn.evaluate(qfeatures_test, targetvalue_test)"
      ],
      "execution_count": null,
      "outputs": [
        {
          "output_type": "stream",
          "name": "stdout",
          "text": [
            "2/2 [==============================] - 0s 13ms/step - loss: 6.6408 - mae: 1.6807\n"
          ]
        },
        {
          "output_type": "execute_result",
          "data": {
            "text/plain": [
              "[6.64080810546875, 1.680739402770996]"
            ]
          },
          "metadata": {},
          "execution_count": 20
        }
      ]
    },
    {
      "cell_type": "code",
      "metadata": {
        "colab": {
          "base_uri": "https://localhost:8080/"
        },
        "id": "qrJ642a08zMa",
        "outputId": "5a6f8e99-8b64-409a-8239-00753dacf925"
      },
      "source": [
        "regression_fcn.predict(qmarch)"
      ],
      "execution_count": null,
      "outputs": [
        {
          "output_type": "stream",
          "name": "stdout",
          "text": [
            "1/1 [==============================] - 0s 126ms/step\n"
          ]
        },
        {
          "output_type": "execute_result",
          "data": {
            "text/plain": [
              "array([[1.9663868]], dtype=float32)"
            ]
          },
          "metadata": {},
          "execution_count": 21
        }
      ]
    }
  ]
}